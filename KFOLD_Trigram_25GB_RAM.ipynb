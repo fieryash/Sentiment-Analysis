{
  "nbformat": 4,
  "nbformat_minor": 0,
  "metadata": {
    "colab": {
      "name": "KFOLD_Trigram_25GB RAM .ipynb",
      "provenance": [],
      "collapsed_sections": [],
      "machine_shape": "hm"
    },
    "kernelspec": {
      "name": "python3",
      "display_name": "Python 3"
    },
    "accelerator": "GPU"
  },
  "cells": [
    {
      "cell_type": "code",
      "metadata": {
        "id": "tZRSiDYNQLSr",
        "colab_type": "code",
        "colab": {
          "base_uri": "https://localhost:8080/",
          "height": 121
        },
        "outputId": "a0813230-5eaa-4b91-dfab-63afde223e6c"
      },
      "source": [
        "from google.colab import drive\n",
        "drive.mount('/content/drive')"
      ],
      "execution_count": null,
      "outputs": [
        {
          "output_type": "stream",
          "text": [
            "Go to this URL in a browser: https://accounts.google.com/o/oauth2/auth?client_id=947318989803-6bn6qk8qdgf4n4g3pfee6491hc0brc4i.apps.googleusercontent.com&redirect_uri=urn%3aietf%3awg%3aoauth%3a2.0%3aoob&response_type=code&scope=email%20https%3a%2f%2fwww.googleapis.com%2fauth%2fdocs.test%20https%3a%2f%2fwww.googleapis.com%2fauth%2fdrive%20https%3a%2f%2fwww.googleapis.com%2fauth%2fdrive.photos.readonly%20https%3a%2f%2fwww.googleapis.com%2fauth%2fpeopleapi.readonly\n",
            "\n",
            "Enter your authorization code:\n",
            "··········\n",
            "Mounted at /content/drive\n"
          ],
          "name": "stdout"
        }
      ]
    },
    {
      "cell_type": "code",
      "metadata": {
        "id": "87T5BetZQYQv",
        "colab_type": "code",
        "colab": {}
      },
      "source": [
        "# DataFrame\n",
        "import pandas as pd\n",
        "\n",
        "# Matplot\n",
        "import matplotlib.pyplot as plt\n",
        "%matplotlib inline\n",
        "\n",
        "# Scikit-learn\n",
        "from sklearn.model_selection import train_test_split\n",
        "from sklearn.preprocessing import LabelEncoder\n",
        "from sklearn.metrics import confusion_matrix, classification_report, accuracy_score\n",
        "from sklearn.manifold import TSNE\n",
        "from sklearn.feature_extraction.text import TfidfVectorizer\n",
        "from sklearn.model_selection import KFold\n",
        "\n",
        "import tensorflow as tf\n",
        "from tensorflow import keras\n",
        "\n",
        "# Keras\n",
        "from tensorflow.keras.preprocessing.text import Tokenizer\n",
        "from tensorflow.keras.preprocessing.sequence import pad_sequences\n",
        "from tensorflow.keras.models import Sequential\n",
        "from tensorflow.keras.layers import Activation, Dense, Dropout, Embedding, Flatten, Conv1D, MaxPooling1D, LSTM, Bidirectional\n",
        "from tensorflow.keras import utils\n",
        "from tensorflow.keras.callbacks import ReduceLROnPlateau, EarlyStopping\n",
        "\n",
        "# nltk\n",
        "import nltk\n",
        "from nltk.corpus import stopwords\n",
        "from  nltk.stem import SnowballStemmer\n",
        "\n",
        "# Word2vec\n",
        "import gensim\n",
        "from gensim.models import phrases\n",
        "\n",
        "# Utility\n",
        "import re\n",
        "import numpy as np\n",
        "import os\n",
        "from collections import Counter\n",
        "import logging\n",
        "import time\n",
        "import pickle\n",
        "import itertools\n",
        "import string\n",
        "\n",
        "# Set log\n",
        "logging.basicConfig(format='%(asctime)s : %(levelname)s : %(message)s', level=logging.INFO)"
      ],
      "execution_count": null,
      "outputs": []
    },
    {
      "cell_type": "code",
      "metadata": {
        "id": "YOckP_sYQcda",
        "colab_type": "code",
        "colab": {}
      },
      "source": [
        "# DATASET\n",
        "DATASET_COLUMNS = [\"target\", \"text\"]\n",
        "DATASET_ENCODING = \"ISO-8859-1\"\n",
        "TRAIN_SIZE = 0.8\n",
        "\n",
        "#TEXT CLENAING\n",
        "TEXT_CLEANING_RE = \"@\\S+|https?:\\S+|http?:\\S|[^A-Za-z0-9]+\"\n",
        "\n",
        "# WORD2VEC \n",
        "W2V_SIZE = 500\n",
        "W2V_WINDOW = 7\n",
        "W2V_EPOCH = 4\n",
        "W2V_MIN_COUNT = 10\n",
        "\n",
        "# KERAS\n",
        "SEQUENCE_LENGTH = 500\n",
        "EPOCHS = 5\n",
        "BATCH_SIZE = 8\n",
        "\n",
        "# EXPORT\n",
        "KERAS_MODEL = \"model.h5\"\n",
        "WORD2VEC_MODEL = \"model.w2v\"\n",
        "TOKENIZER_MODEL = \"tokenizer.pkl\"\n",
        "ENCODER_MODEL = \"encoder.pkl\""
      ],
      "execution_count": null,
      "outputs": []
    },
    {
      "cell_type": "code",
      "metadata": {
        "id": "_F9FfyFSQl_5",
        "colab_type": "code",
        "colab": {
          "base_uri": "https://localhost:8080/",
          "height": 289
        },
        "outputId": "420c67dd-b31d-4ee0-a958-7c1313a99a7a"
      },
      "source": [
        "dataset_path = \"/content/drive/My Drive/New Data/processed_data_less.csv\"\n",
        "print(\"Open file:\", dataset_path)\n",
        "df = pd.read_csv(dataset_path, encoding =DATASET_ENCODING , names=DATASET_COLUMNS, skiprows=1)\n",
        "df.head"
      ],
      "execution_count": null,
      "outputs": [
        {
          "output_type": "stream",
          "text": [
            "Open file: /content/drive/My Drive/New Data/processed_data_less.csv\n"
          ],
          "name": "stdout"
        },
        {
          "output_type": "execute_result",
          "data": {
            "text/plain": [
              "<bound method NDFrame.head of         target                                               text\n",
              "296746       1  ugh ive been having this problem for the past ...\n",
              "377066       1  suddenly everythings hard and confusing again ...\n",
              "433411       1  i didn't think chester's death would hit me th...\n",
              "55116        1  your words walk me to the station,they sit nex...\n",
              "379076       1  i've spent the last years of my life depressed...\n",
              "...        ...                                                ...\n",
              "169449       0  it feels like when im hungry, after a while it...\n",
              "290057       0  that ethiopia uses a different new year, and t...\n",
              "2552         0  reddit, what are some of your favorite life-ru...\n",
              "420625       0  only two-thirds of american millennials believ...\n",
              "219838       0  i have been reading lately about this matter o...\n",
              "\n",
              "[529438 rows x 2 columns]>"
            ]
          },
          "metadata": {
            "tags": []
          },
          "execution_count": 4
        }
      ]
    },
    {
      "cell_type": "code",
      "metadata": {
        "id": "xalsFDNyQp66",
        "colab_type": "code",
        "colab": {
          "base_uri": "https://localhost:8080/",
          "height": 34
        },
        "outputId": "6062caee-a4fc-4a1e-fc94-15b9170fcf2a"
      },
      "source": [
        "print(\"Dataset size:\", len(df))"
      ],
      "execution_count": null,
      "outputs": [
        {
          "output_type": "stream",
          "text": [
            "Dataset size: 529438\n"
          ],
          "name": "stdout"
        }
      ]
    },
    {
      "cell_type": "code",
      "metadata": {
        "id": "XryjXIYhQ_gM",
        "colab_type": "code",
        "colab": {
          "base_uri": "https://localhost:8080/",
          "height": 34
        },
        "outputId": "dd6e2671-93a5-4698-f696-dee11e9e8969"
      },
      "source": [
        "print(\"Dataset size:\", len(df))"
      ],
      "execution_count": null,
      "outputs": [
        {
          "output_type": "stream",
          "text": [
            "Dataset size: 529438\n"
          ],
          "name": "stdout"
        }
      ]
    },
    {
      "cell_type": "markdown",
      "metadata": {
        "id": "Wd-2ZJjoJaNU",
        "colab_type": "text"
      },
      "source": [
        "**NOTE**: PLease allow your browser to allow show pop-ups by sites as show below "
      ]
    },
    {
      "cell_type": "code",
      "metadata": {
        "id": "beJ_3jq4JkDD",
        "colab_type": "code",
        "colab": {}
      },
      "source": [
        "decode_map = {0: \"Not_Depressed\", 1: \"Depressed\"}\n",
        "def decode_sentiment(label):\n",
        "    return decode_map[int(label)]"
      ],
      "execution_count": null,
      "outputs": []
    },
    {
      "cell_type": "code",
      "metadata": {
        "id": "kbg5pOhxOKbY",
        "colab_type": "code",
        "colab": {
          "base_uri": "https://localhost:8080/",
          "height": 50
        },
        "outputId": "4074f760-87e3-44da-c746-ba2e642c03a3"
      },
      "source": [
        "%%time\n",
        "df.target = df.target.apply(lambda x: decode_sentiment(x))"
      ],
      "execution_count": null,
      "outputs": [
        {
          "output_type": "stream",
          "text": [
            "CPU times: user 149 ms, sys: 751 µs, total: 150 ms\n",
            "Wall time: 150 ms\n"
          ],
          "name": "stdout"
        }
      ]
    },
    {
      "cell_type": "code",
      "metadata": {
        "id": "sJ_s4B9-5P2q",
        "colab_type": "code",
        "colab": {
          "base_uri": "https://localhost:8080/",
          "height": 362
        },
        "outputId": "365e9fe1-3afa-4456-fc8d-6f6fe0ab0517"
      },
      "source": [
        "target_cnt = Counter(df.target)\n",
        "\n",
        "plt.figure(figsize=(16,8))\n",
        "plt.bar(target_cnt.keys(), target_cnt.values())\n",
        "plt.title(\"Dataset labels distribuition\")"
      ],
      "execution_count": null,
      "outputs": [
        {
          "output_type": "execute_result",
          "data": {
            "text/plain": [
              "Text(0.5, 1.0, 'Dataset labels distribuition')"
            ]
          },
          "metadata": {
            "tags": []
          },
          "execution_count": 9
        },
        {
          "output_type": "display_data",
          "data": {
            "image/png": "[encoded data removed]",
            "text/plain": [
              "<Figure size 1152x576 with 1 Axes>"
            ]
          },
          "metadata": {
            "tags": [],
            "needs_background": "light"
          }
        }
      ]
    },
    {
      "cell_type": "code",
      "metadata": {
        "id": "YAWpkZjo5RcL",
        "colab_type": "code",
        "colab": {
          "base_uri": "https://localhost:8080/",
          "height": 87
        },
        "outputId": "be40d028-3809-4ea3-884e-25cc750e6050"
      },
      "source": [
        "import nltk\n",
        "nltk.download('stopwords')\n",
        "stop_words = stopwords.words(\"english\")\n",
        "stop_words.remove('not')\n",
        "stemmer = SnowballStemmer(\"english\")\n",
        "print(stop_words)"
      ],
      "execution_count": null,
      "outputs": [
        {
          "output_type": "stream",
          "text": [
            "[nltk_data] Downloading package stopwords to /root/nltk_data...\n",
            "[nltk_data]   Unzipping corpora/stopwords.zip.\n",
            "['i', 'me', 'my', 'myself', 'we', 'our', 'ours', 'ourselves', 'you', \"you're\", \"you've\", \"you'll\", \"you'd\", 'your', 'yours', 'yourself', 'yourselves', 'he', 'him', 'his', 'himself', 'she', \"she's\", 'her', 'hers', 'herself', 'it', \"it's\", 'its', 'itself', 'they', 'them', 'their', 'theirs', 'themselves', 'what', 'which', 'who', 'whom', 'this', 'that', \"that'll\", 'these', 'those', 'am', 'is', 'are', 'was', 'were', 'be', 'been', 'being', 'have', 'has', 'had', 'having', 'do', 'does', 'did', 'doing', 'a', 'an', 'the', 'and', 'but', 'if', 'or', 'because', 'as', 'until', 'while', 'of', 'at', 'by', 'for', 'with', 'about', 'against', 'between', 'into', 'through', 'during', 'before', 'after', 'above', 'below', 'to', 'from', 'up', 'down', 'in', 'out', 'on', 'off', 'over', 'under', 'again', 'further', 'then', 'once', 'here', 'there', 'when', 'where', 'why', 'how', 'all', 'any', 'both', 'each', 'few', 'more', 'most', 'other', 'some', 'such', 'no', 'nor', 'only', 'own', 'same', 'so', 'than', 'too', 'very', 's', 't', 'can', 'will', 'just', 'don', \"don't\", 'should', \"should've\", 'now', 'd', 'll', 'm', 'o', 're', 've', 'y', 'ain', 'aren', \"aren't\", 'couldn', \"couldn't\", 'didn', \"didn't\", 'doesn', \"doesn't\", 'hadn', \"hadn't\", 'hasn', \"hasn't\", 'haven', \"haven't\", 'isn', \"isn't\", 'ma', 'mightn', \"mightn't\", 'mustn', \"mustn't\", 'needn', \"needn't\", 'shan', \"shan't\", 'shouldn', \"shouldn't\", 'wasn', \"wasn't\", 'weren', \"weren't\", 'won', \"won't\", 'wouldn', \"wouldn't\"]\n"
          ],
          "name": "stdout"
        }
      ]
    },
    {
      "cell_type": "code",
      "metadata": {
        "id": "7I3lHzdx5Sb0",
        "colab_type": "code",
        "colab": {}
      },
      "source": [
        "def preprocess(text, stem=False):\n",
        "    # Remove link,user and special characters\n",
        "    text = str(text).lower().strip().translate(str.maketrans(\"\", \"\", string.punctuation))\n",
        "    tokens = []\n",
        "    for token in text.split():\n",
        "        if token not in stop_words:\n",
        "            if stem:\n",
        "                tokens.append(stemmer.stem(token))\n",
        "            else:\n",
        "                tokens.append(token)\n",
        "        # tokens.append(token)\n",
        "    return tokens"
      ],
      "execution_count": null,
      "outputs": []
    },
    {
      "cell_type": "code",
      "metadata": {
        "id": "Oi8A00cQ5T78",
        "colab_type": "code",
        "colab": {
          "base_uri": "https://localhost:8080/",
          "height": 402
        },
        "outputId": "0754707d-2906-4aad-d903-6ce0be3530df"
      },
      "source": [
        "df.text=df.text.apply(lambda row:preprocess(row))\n",
        "df"
      ],
      "execution_count": null,
      "outputs": [
        {
          "output_type": "execute_result",
          "data": {
            "text/html": [
              "<div>\n",
              "<style scoped>\n",
              "    .dataframe tbody tr th:only-of-type {\n",
              "        vertical-align: middle;\n",
              "    }\n",
              "\n",
              "    .dataframe tbody tr th {\n",
              "        vertical-align: top;\n",
              "    }\n",
              "\n",
              "    .dataframe thead th {\n",
              "        text-align: right;\n",
              "    }\n",
              "</style>\n",
              "<table border=\"1\" class=\"dataframe\">\n",
              "  <thead>\n",
              "    <tr style=\"text-align: right;\">\n",
              "      <th></th>\n",
              "      <th>target</th>\n",
              "      <th>text</th>\n",
              "    </tr>\n",
              "  </thead>\n",
              "  <tbody>\n",
              "    <tr>\n",
              "      <th>296746</th>\n",
              "      <td>Depressed</td>\n",
              "      <td>[ugh, ive, problem, past, years, kept, getting...</td>\n",
              "    </tr>\n",
              "    <tr>\n",
              "      <th>377066</th>\n",
              "      <td>Depressed</td>\n",
              "      <td>[suddenly, everythings, hard, confusing, tell,...</td>\n",
              "    </tr>\n",
              "    <tr>\n",
              "      <th>433411</th>\n",
              "      <td>Depressed</td>\n",
              "      <td>[didnt, think, chesters, death, would, hit, hard]</td>\n",
              "    </tr>\n",
              "    <tr>\n",
              "      <th>55116</th>\n",
              "      <td>Depressed</td>\n",
              "      <td>[words, walk, stationthey, sit, next, train, f...</td>\n",
              "    </tr>\n",
              "    <tr>\n",
              "      <th>379076</th>\n",
              "      <td>Depressed</td>\n",
              "      <td>[ive, spent, last, years, life, depressed, ive...</td>\n",
              "    </tr>\n",
              "    <tr>\n",
              "      <th>...</th>\n",
              "      <td>...</td>\n",
              "      <td>...</td>\n",
              "    </tr>\n",
              "    <tr>\n",
              "      <th>169449</th>\n",
              "      <td>Not_Depressed</td>\n",
              "      <td>[feels, like, im, hungry, goes, away, eat, sto...</td>\n",
              "    </tr>\n",
              "    <tr>\n",
              "      <th>290057</th>\n",
              "      <td>Not_Depressed</td>\n",
              "      <td>[ethiopia, uses, different, new, year, new, ye...</td>\n",
              "    </tr>\n",
              "    <tr>\n",
              "      <th>2552</th>\n",
              "      <td>Not_Depressed</td>\n",
              "      <td>[reddit, favorite, liferuining, gifs]</td>\n",
              "    </tr>\n",
              "    <tr>\n",
              "      <th>420625</th>\n",
              "      <td>Not_Depressed</td>\n",
              "      <td>[twothirds, american, millennials, believe, ea...</td>\n",
              "    </tr>\n",
              "    <tr>\n",
              "      <th>219838</th>\n",
              "      <td>Not_Depressed</td>\n",
              "      <td>[reading, lately, matter, internet, different,...</td>\n",
              "    </tr>\n",
              "  </tbody>\n",
              "</table>\n",
              "<p>529438 rows × 2 columns</p>\n",
              "</div>"
            ],
            "text/plain": [
              "               target                                               text\n",
              "296746      Depressed  [ugh, ive, problem, past, years, kept, getting...\n",
              "377066      Depressed  [suddenly, everythings, hard, confusing, tell,...\n",
              "433411      Depressed  [didnt, think, chesters, death, would, hit, hard]\n",
              "55116       Depressed  [words, walk, stationthey, sit, next, train, f...\n",
              "379076      Depressed  [ive, spent, last, years, life, depressed, ive...\n",
              "...               ...                                                ...\n",
              "169449  Not_Depressed  [feels, like, im, hungry, goes, away, eat, sto...\n",
              "290057  Not_Depressed  [ethiopia, uses, different, new, year, new, ye...\n",
              "2552    Not_Depressed              [reddit, favorite, liferuining, gifs]\n",
              "420625  Not_Depressed  [twothirds, american, millennials, believe, ea...\n",
              "219838  Not_Depressed  [reading, lately, matter, internet, different,...\n",
              "\n",
              "[529438 rows x 2 columns]"
            ]
          },
          "metadata": {
            "tags": []
          },
          "execution_count": 12
        }
      ]
    },
    {
      "cell_type": "code",
      "metadata": {
        "id": "wcr5eBDS5U7Q",
        "colab_type": "code",
        "colab": {
          "base_uri": "https://localhost:8080/",
          "height": 1000
        },
        "outputId": "50520616-af00-4a2f-e1b2-74deddda5478"
      },
      "source": [
        "p = phrases.Phrases(df.text.values, min_count=1)\n",
        "bigrams = phrases.Phraser(p)"
      ],
      "execution_count": null,
      "outputs": [
        {
          "output_type": "stream",
          "text": [
            "2020-07-27 20:17:00,284 : INFO : collecting all words and their counts\n",
            "2020-07-27 20:17:00,285 : INFO : PROGRESS: at sentence #0, processed 0 words and 0 word types\n",
            "2020-07-27 20:17:01,460 : INFO : PROGRESS: at sentence #10000, processed 796000 words and 450214 word types\n",
            "2020-07-27 20:17:02,679 : INFO : PROGRESS: at sentence #20000, processed 1578774 words and 769181 word types\n",
            "2020-07-27 20:17:03,852 : INFO : PROGRESS: at sentence #30000, processed 2348580 words and 1041477 word types\n",
            "2020-07-27 20:17:05,058 : INFO : PROGRESS: at sentence #40000, processed 3126184 words and 1293586 word types\n",
            "2020-07-27 20:17:06,417 : INFO : PROGRESS: at sentence #50000, processed 3943409 words and 1541433 word types\n",
            "2020-07-27 20:17:07,662 : INFO : PROGRESS: at sentence #60000, processed 4734329 words and 1764306 word types\n",
            "2020-07-27 20:17:08,879 : INFO : PROGRESS: at sentence #70000, processed 5510127 words and 1972576 word types\n",
            "2020-07-27 20:17:10,077 : INFO : PROGRESS: at sentence #80000, processed 6278916 words and 2171475 word types\n",
            "2020-07-27 20:17:11,318 : INFO : PROGRESS: at sentence #90000, processed 7056858 words and 2363142 word types\n",
            "2020-07-27 20:17:12,577 : INFO : PROGRESS: at sentence #100000, processed 7843099 words and 2552251 word types\n",
            "2020-07-27 20:17:13,887 : INFO : PROGRESS: at sentence #110000, processed 8632515 words and 2736500 word types\n",
            "2020-07-27 20:17:15,279 : INFO : PROGRESS: at sentence #120000, processed 9398057 words and 2911297 word types\n",
            "2020-07-27 20:17:16,493 : INFO : PROGRESS: at sentence #130000, processed 10171565 words and 3081902 word types\n",
            "2020-07-27 20:17:17,753 : INFO : PROGRESS: at sentence #140000, processed 10961973 words and 3251928 word types\n",
            "2020-07-27 20:17:19,024 : INFO : PROGRESS: at sentence #150000, processed 11766172 words and 3422793 word types\n",
            "2020-07-27 20:17:20,254 : INFO : PROGRESS: at sentence #160000, processed 12542510 words and 3583059 word types\n",
            "2020-07-27 20:17:21,514 : INFO : PROGRESS: at sentence #170000, processed 13339637 words and 3742946 word types\n",
            "2020-07-27 20:17:22,792 : INFO : PROGRESS: at sentence #180000, processed 14137070 words and 3903589 word types\n",
            "2020-07-27 20:17:24,031 : INFO : PROGRESS: at sentence #190000, processed 14913913 words and 4057235 word types\n",
            "2020-07-27 20:17:25,287 : INFO : PROGRESS: at sentence #200000, processed 15686520 words and 4206823 word types\n",
            "2020-07-27 20:17:26,525 : INFO : PROGRESS: at sentence #210000, processed 16463251 words and 4359341 word types\n",
            "2020-07-27 20:17:27,781 : INFO : PROGRESS: at sentence #220000, processed 17249204 words and 4506519 word types\n",
            "2020-07-27 20:17:29,120 : INFO : PROGRESS: at sentence #230000, processed 18038032 words and 4652456 word types\n",
            "2020-07-27 20:17:30,416 : INFO : PROGRESS: at sentence #240000, processed 18833902 words and 4795553 word types\n",
            "2020-07-27 20:17:31,686 : INFO : PROGRESS: at sentence #250000, processed 19611755 words and 4931239 word types\n",
            "2020-07-27 20:17:32,971 : INFO : PROGRESS: at sentence #260000, processed 20398043 words and 5069323 word types\n",
            "2020-07-27 20:17:33,740 : INFO : PROGRESS: at sentence #270000, processed 20855204 words and 5182692 word types\n",
            "2020-07-27 20:17:34,027 : INFO : PROGRESS: at sentence #280000, processed 21009710 words and 5270313 word types\n",
            "2020-07-27 20:17:34,304 : INFO : PROGRESS: at sentence #290000, processed 21162607 words and 5354764 word types\n",
            "2020-07-27 20:17:34,580 : INFO : PROGRESS: at sentence #300000, processed 21316465 words and 5437302 word types\n",
            "2020-07-27 20:17:34,866 : INFO : PROGRESS: at sentence #310000, processed 21470341 words and 5517054 word types\n",
            "2020-07-27 20:17:35,544 : INFO : PROGRESS: at sentence #320000, processed 21625265 words and 5596900 word types\n",
            "2020-07-27 20:17:35,821 : INFO : PROGRESS: at sentence #330000, processed 21778998 words and 5673652 word types\n",
            "2020-07-27 20:17:36,096 : INFO : PROGRESS: at sentence #340000, processed 21930762 words and 5748850 word types\n",
            "2020-07-27 20:17:36,368 : INFO : PROGRESS: at sentence #350000, processed 22085000 words and 5824252 word types\n",
            "2020-07-27 20:17:36,645 : INFO : PROGRESS: at sentence #360000, processed 22239202 words and 5898581 word types\n",
            "2020-07-27 20:17:36,913 : INFO : PROGRESS: at sentence #370000, processed 22390958 words and 5970176 word types\n",
            "2020-07-27 20:17:37,191 : INFO : PROGRESS: at sentence #380000, processed 22543666 words and 6040534 word types\n",
            "2020-07-27 20:17:37,461 : INFO : PROGRESS: at sentence #390000, processed 22697610 words and 6110394 word types\n",
            "2020-07-27 20:17:37,728 : INFO : PROGRESS: at sentence #400000, processed 22850121 words and 6179563 word types\n",
            "2020-07-27 20:17:38,016 : INFO : PROGRESS: at sentence #410000, processed 23004413 words and 6249207 word types\n",
            "2020-07-27 20:17:38,302 : INFO : PROGRESS: at sentence #420000, processed 23161234 words and 6318147 word types\n",
            "2020-07-27 20:17:38,576 : INFO : PROGRESS: at sentence #430000, processed 23314186 words and 6386026 word types\n",
            "2020-07-27 20:17:38,849 : INFO : PROGRESS: at sentence #440000, processed 23466354 words and 6451658 word types\n",
            "2020-07-27 20:17:39,138 : INFO : PROGRESS: at sentence #450000, processed 23624425 words and 6520925 word types\n",
            "2020-07-27 20:17:39,417 : INFO : PROGRESS: at sentence #460000, processed 23779338 words and 6586734 word types\n",
            "2020-07-27 20:17:39,704 : INFO : PROGRESS: at sentence #470000, processed 23932940 words and 6651453 word types\n",
            "2020-07-27 20:17:39,999 : INFO : PROGRESS: at sentence #480000, processed 24088227 words and 6715261 word types\n",
            "2020-07-27 20:17:40,285 : INFO : PROGRESS: at sentence #490000, processed 24244681 words and 6779153 word types\n",
            "2020-07-27 20:17:40,559 : INFO : PROGRESS: at sentence #500000, processed 24397096 words and 6841458 word types\n",
            "2020-07-27 20:17:40,836 : INFO : PROGRESS: at sentence #510000, processed 24551439 words and 6903889 word types\n",
            "2020-07-27 20:17:41,116 : INFO : PROGRESS: at sentence #520000, processed 24706590 words and 6965575 word types\n",
            "2020-07-27 20:17:41,382 : INFO : collected 7023328 word types from a corpus of 24853222 words (unigram + bigrams) and 529438 sentences\n",
            "2020-07-27 20:17:41,383 : INFO : using 7023328 counts as vocab in Phrases<0 vocab, min_count=1, threshold=10.0, max_vocab_size=40000000>\n",
            "2020-07-27 20:17:41,383 : INFO : source_vocab length 7023328\n",
            "2020-07-27 20:17:49,428 : INFO : Phraser added 50000 phrasegrams\n",
            "2020-07-27 20:18:00,417 : INFO : Phraser added 100000 phrasegrams\n",
            "2020-07-27 20:18:18,821 : INFO : Phraser added 150000 phrasegrams\n",
            "2020-07-27 20:18:27,807 : INFO : Phraser added 200000 phrasegrams\n",
            "2020-07-27 20:18:32,337 : INFO : Phraser added 250000 phrasegrams\n",
            "2020-07-27 20:18:41,561 : INFO : Phraser built with 290538 phrasegrams\n"
          ],
          "name": "stderr"
        }
      ]
    },
    {
      "cell_type": "code",
      "metadata": {
        "id": "WWvOj-Wu5WSX",
        "colab_type": "code",
        "colab": {
          "base_uri": "https://localhost:8080/",
          "height": 402
        },
        "outputId": "6a4367be-6f35-4c4a-adb3-56b3fb9f2104"
      },
      "source": [
        "df.text=df.text.apply(lambda row:bigrams[row])\n",
        "df"
      ],
      "execution_count": null,
      "outputs": [
        {
          "output_type": "execute_result",
          "data": {
            "text/html": [
              "<div>\n",
              "<style scoped>\n",
              "    .dataframe tbody tr th:only-of-type {\n",
              "        vertical-align: middle;\n",
              "    }\n",
              "\n",
              "    .dataframe tbody tr th {\n",
              "        vertical-align: top;\n",
              "    }\n",
              "\n",
              "    .dataframe thead th {\n",
              "        text-align: right;\n",
              "    }\n",
              "</style>\n",
              "<table border=\"1\" class=\"dataframe\">\n",
              "  <thead>\n",
              "    <tr style=\"text-align: right;\">\n",
              "      <th></th>\n",
              "      <th>target</th>\n",
              "      <th>text</th>\n",
              "    </tr>\n",
              "  </thead>\n",
              "  <tbody>\n",
              "    <tr>\n",
              "      <th>296746</th>\n",
              "      <td>Depressed</td>\n",
              "      <td>[ugh, ive, problem, past, years, kept, getting...</td>\n",
              "    </tr>\n",
              "    <tr>\n",
              "      <th>377066</th>\n",
              "      <td>Depressed</td>\n",
              "      <td>[suddenly, everythings, hard, confusing, tell,...</td>\n",
              "    </tr>\n",
              "    <tr>\n",
              "      <th>433411</th>\n",
              "      <td>Depressed</td>\n",
              "      <td>[didnt, think, chesters_death, would, hit, hard]</td>\n",
              "    </tr>\n",
              "    <tr>\n",
              "      <th>55116</th>\n",
              "      <td>Depressed</td>\n",
              "      <td>[words, walk, stationthey, sit, next, train, f...</td>\n",
              "    </tr>\n",
              "    <tr>\n",
              "      <th>379076</th>\n",
              "      <td>Depressed</td>\n",
              "      <td>[ive, spent, last, years, life, depressed, ive...</td>\n",
              "    </tr>\n",
              "    <tr>\n",
              "      <th>...</th>\n",
              "      <td>...</td>\n",
              "      <td>...</td>\n",
              "    </tr>\n",
              "    <tr>\n",
              "      <th>169449</th>\n",
              "      <td>Not_Depressed</td>\n",
              "      <td>[feels_like, im, hungry, goes_away, eat, stoma...</td>\n",
              "    </tr>\n",
              "    <tr>\n",
              "      <th>290057</th>\n",
              "      <td>Not_Depressed</td>\n",
              "      <td>[ethiopia, uses, different, new, year, new, ye...</td>\n",
              "    </tr>\n",
              "    <tr>\n",
              "      <th>2552</th>\n",
              "      <td>Not_Depressed</td>\n",
              "      <td>[reddit_favorite, liferuining, gifs]</td>\n",
              "    </tr>\n",
              "    <tr>\n",
              "      <th>420625</th>\n",
              "      <td>Not_Depressed</td>\n",
              "      <td>[twothirds_american, millennials, believe, ear...</td>\n",
              "    </tr>\n",
              "    <tr>\n",
              "      <th>219838</th>\n",
              "      <td>Not_Depressed</td>\n",
              "      <td>[reading, lately, matter, internet, different,...</td>\n",
              "    </tr>\n",
              "  </tbody>\n",
              "</table>\n",
              "<p>529438 rows × 2 columns</p>\n",
              "</div>"
            ],
            "text/plain": [
              "               target                                               text\n",
              "296746      Depressed  [ugh, ive, problem, past, years, kept, getting...\n",
              "377066      Depressed  [suddenly, everythings, hard, confusing, tell,...\n",
              "433411      Depressed   [didnt, think, chesters_death, would, hit, hard]\n",
              "55116       Depressed  [words, walk, stationthey, sit, next, train, f...\n",
              "379076      Depressed  [ive, spent, last, years, life, depressed, ive...\n",
              "...               ...                                                ...\n",
              "169449  Not_Depressed  [feels_like, im, hungry, goes_away, eat, stoma...\n",
              "290057  Not_Depressed  [ethiopia, uses, different, new, year, new, ye...\n",
              "2552    Not_Depressed               [reddit_favorite, liferuining, gifs]\n",
              "420625  Not_Depressed  [twothirds_american, millennials, believe, ear...\n",
              "219838  Not_Depressed  [reading, lately, matter, internet, different,...\n",
              "\n",
              "[529438 rows x 2 columns]"
            ]
          },
          "metadata": {
            "tags": []
          },
          "execution_count": 14
        }
      ]
    },
    {
      "cell_type": "code",
      "metadata": {
        "id": "0pEIovaA5XaQ",
        "colab_type": "code",
        "colab": {
          "base_uri": "https://localhost:8080/",
          "height": 1000
        },
        "outputId": "c78c15da-bdbb-4709-80a1-077722ac25be"
      },
      "source": [
        "xp=phrases.Phrases(bigrams[df.text.values],min_count=1)\n",
        "trigram=phrases.Phraser(xp)"
      ],
      "execution_count": null,
      "outputs": [
        {
          "output_type": "stream",
          "text": [
            "2020-07-27 20:19:40,927 : INFO : collecting all words and their counts\n",
            "2020-07-27 20:19:40,928 : INFO : PROGRESS: at sentence #0, processed 0 words and 0 word types\n",
            "2020-07-27 20:19:43,801 : INFO : PROGRESS: at sentence #10000, processed 731572 words and 480580 word types\n",
            "2020-07-27 20:19:46,653 : INFO : PROGRESS: at sentence #20000, processed 1450386 words and 840386 word types\n",
            "2020-07-27 20:19:49,506 : INFO : PROGRESS: at sentence #30000, processed 2158977 words and 1155187 word types\n",
            "2020-07-27 20:19:52,395 : INFO : PROGRESS: at sentence #40000, processed 2873098 words and 1450883 word types\n",
            "2020-07-27 20:19:55,397 : INFO : PROGRESS: at sentence #50000, processed 3624273 words and 1744788 word types\n",
            "2020-07-27 20:19:58,290 : INFO : PROGRESS: at sentence #60000, processed 4351396 words and 2012745 word types\n",
            "2020-07-27 20:20:01,147 : INFO : PROGRESS: at sentence #70000, processed 5064796 words and 2265850 word types\n",
            "2020-07-27 20:20:04,025 : INFO : PROGRESS: at sentence #80000, processed 5772309 words and 2508429 word types\n",
            "2020-07-27 20:20:06,929 : INFO : PROGRESS: at sentence #90000, processed 6488032 words and 2744483 word types\n",
            "2020-07-27 20:20:09,989 : INFO : PROGRESS: at sentence #100000, processed 7210781 words and 2978394 word types\n",
            "2020-07-27 20:20:12,911 : INFO : PROGRESS: at sentence #110000, processed 7935870 words and 3207274 word types\n",
            "2020-07-27 20:20:15,802 : INFO : PROGRESS: at sentence #120000, processed 8639956 words and 3425271 word types\n",
            "2020-07-27 20:20:18,733 : INFO : PROGRESS: at sentence #130000, processed 9351568 words and 3639432 word types\n",
            "2020-07-27 20:20:21,778 : INFO : PROGRESS: at sentence #140000, processed 10077631 words and 3854070 word types\n",
            "2020-07-27 20:20:24,856 : INFO : PROGRESS: at sentence #150000, processed 10817527 words and 4070258 word types\n",
            "2020-07-27 20:20:27,836 : INFO : PROGRESS: at sentence #160000, processed 11531358 words and 4273806 word types\n",
            "2020-07-27 20:20:30,891 : INFO : PROGRESS: at sentence #170000, processed 12264171 words and 4477837 word types\n",
            "2020-07-27 20:20:33,953 : INFO : PROGRESS: at sentence #180000, processed 12996226 words and 4682720 word types\n",
            "2020-07-27 20:20:36,962 : INFO : PROGRESS: at sentence #190000, processed 13710574 words and 4879317 word types\n",
            "2020-07-27 20:20:39,953 : INFO : PROGRESS: at sentence #200000, processed 14421065 words and 5071506 word types\n",
            "2020-07-27 20:20:42,994 : INFO : PROGRESS: at sentence #210000, processed 15134782 words and 5267118 word types\n",
            "2020-07-27 20:20:46,100 : INFO : PROGRESS: at sentence #220000, processed 15857956 words and 5457185 word types\n",
            "2020-07-27 20:20:49,654 : INFO : PROGRESS: at sentence #230000, processed 16583421 words and 5646185 word types\n",
            "2020-07-27 20:20:52,778 : INFO : PROGRESS: at sentence #240000, processed 17314979 words and 5832490 word types\n",
            "2020-07-27 20:20:55,780 : INFO : PROGRESS: at sentence #250000, processed 18030301 words and 6010050 word types\n",
            "2020-07-27 20:20:58,843 : INFO : PROGRESS: at sentence #260000, processed 18753192 words and 6190243 word types\n",
            "2020-07-27 20:21:00,626 : INFO : PROGRESS: at sentence #270000, processed 19168717 words and 6328030 word types\n",
            "2020-07-27 20:21:01,258 : INFO : PROGRESS: at sentence #280000, processed 19301068 words and 6423853 word types\n",
            "2020-07-27 20:21:01,872 : INFO : PROGRESS: at sentence #290000, processed 19432106 words and 6517138 word types\n",
            "2020-07-27 20:21:02,493 : INFO : PROGRESS: at sentence #300000, processed 19564055 words and 6608931 word types\n",
            "2020-07-27 20:21:03,120 : INFO : PROGRESS: at sentence #310000, processed 19695972 words and 6698223 word types\n",
            "2020-07-27 20:21:03,759 : INFO : PROGRESS: at sentence #320000, processed 19828567 words and 6787987 word types\n",
            "2020-07-27 20:21:04,381 : INFO : PROGRESS: at sentence #330000, processed 19960185 words and 6874776 word types\n",
            "2020-07-27 20:21:04,997 : INFO : PROGRESS: at sentence #340000, processed 20089874 words and 6960157 word types\n",
            "2020-07-27 20:21:05,620 : INFO : PROGRESS: at sentence #350000, processed 20221936 words and 7045951 word types\n",
            "2020-07-27 20:21:06,247 : INFO : PROGRESS: at sentence #360000, processed 20353650 words and 7130648 word types\n",
            "2020-07-27 20:21:06,862 : INFO : PROGRESS: at sentence #370000, processed 20483469 words and 7212618 word types\n",
            "2020-07-27 20:21:07,484 : INFO : PROGRESS: at sentence #380000, processed 20614145 words and 7293348 word types\n",
            "2020-07-27 20:21:08,105 : INFO : PROGRESS: at sentence #390000, processed 20745779 words and 7373883 word types\n",
            "2020-07-27 20:21:08,712 : INFO : PROGRESS: at sentence #400000, processed 20876124 words and 7453477 word types\n",
            "2020-07-27 20:21:09,343 : INFO : PROGRESS: at sentence #410000, processed 21008241 words and 7533705 word types\n",
            "2020-07-27 20:21:09,990 : INFO : PROGRESS: at sentence #420000, processed 21142494 words and 7613597 word types\n",
            "2020-07-27 20:21:10,616 : INFO : PROGRESS: at sentence #430000, processed 21273461 words and 7691719 word types\n",
            "2020-07-27 20:21:11,241 : INFO : PROGRESS: at sentence #440000, processed 21403239 words and 7767902 word types\n",
            "2020-07-27 20:21:11,872 : INFO : PROGRESS: at sentence #450000, processed 21538955 words and 7847901 word types\n",
            "2020-07-27 20:21:12,508 : INFO : PROGRESS: at sentence #460000, processed 21671579 words and 7924434 word types\n",
            "2020-07-27 20:21:13,140 : INFO : PROGRESS: at sentence #470000, processed 21803147 words and 7999789 word types\n",
            "2020-07-27 20:21:13,779 : INFO : PROGRESS: at sentence #480000, processed 21935839 words and 8074016 word types\n",
            "2020-07-27 20:21:14,425 : INFO : PROGRESS: at sentence #490000, processed 22070079 words and 8148888 word types\n",
            "2020-07-27 20:21:15,051 : INFO : PROGRESS: at sentence #500000, processed 22200300 words and 8221857 word types\n",
            "2020-07-27 20:21:15,672 : INFO : PROGRESS: at sentence #510000, processed 22332478 words and 8294852 word types\n",
            "2020-07-27 20:21:16,306 : INFO : PROGRESS: at sentence #520000, processed 22465506 words and 8367222 word types\n",
            "2020-07-27 20:21:16,920 : INFO : collected 8434953 word types from a corpus of 22590744 words (unigram + bigrams) and 529438 sentences\n",
            "2020-07-27 20:21:16,921 : INFO : using 8434953 counts as vocab in Phrases<0 vocab, min_count=1, threshold=10.0, max_vocab_size=40000000>\n",
            "2020-07-27 20:21:16,921 : INFO : source_vocab length 8434953\n",
            "2020-07-27 20:21:20,375 : INFO : Phraser added 50000 phrasegrams\n",
            "2020-07-27 20:21:23,767 : INFO : Phraser added 100000 phrasegrams\n",
            "2020-07-27 20:21:27,542 : INFO : Phraser added 150000 phrasegrams\n",
            "2020-07-27 20:21:31,792 : INFO : Phraser added 200000 phrasegrams\n",
            "2020-07-27 20:21:36,411 : INFO : Phraser added 250000 phrasegrams\n",
            "2020-07-27 20:21:41,627 : INFO : Phraser added 300000 phrasegrams\n",
            "2020-07-27 20:21:47,554 : INFO : Phraser added 350000 phrasegrams\n",
            "2020-07-27 20:21:54,313 : INFO : Phraser added 400000 phrasegrams\n",
            "2020-07-27 20:22:02,649 : INFO : Phraser added 450000 phrasegrams\n",
            "2020-07-27 20:22:13,889 : INFO : Phraser added 500000 phrasegrams\n",
            "2020-07-27 20:22:32,068 : INFO : Phraser added 550000 phrasegrams\n",
            "2020-07-27 20:22:35,334 : INFO : Phraser added 600000 phrasegrams\n",
            "2020-07-27 20:22:39,312 : INFO : Phraser added 650000 phrasegrams\n",
            "2020-07-27 20:22:44,504 : INFO : Phraser added 700000 phrasegrams\n",
            "2020-07-27 20:22:53,520 : INFO : Phraser added 750000 phrasegrams\n",
            "2020-07-27 20:22:57,906 : INFO : Phraser built with 757123 phrasegrams\n"
          ],
          "name": "stderr"
        }
      ]
    },
    {
      "cell_type": "code",
      "metadata": {
        "id": "S4xFICB05Y0U",
        "colab_type": "code",
        "colab": {
          "base_uri": "https://localhost:8080/",
          "height": 402
        },
        "outputId": "9af4f2fe-5f76-4079-eab6-a8e8221a1c98"
      },
      "source": [
        "df.text=df.text.apply(lambda row:trigram[row])\n",
        "df"
      ],
      "execution_count": null,
      "outputs": [
        {
          "output_type": "execute_result",
          "data": {
            "text/html": [
              "<div>\n",
              "<style scoped>\n",
              "    .dataframe tbody tr th:only-of-type {\n",
              "        vertical-align: middle;\n",
              "    }\n",
              "\n",
              "    .dataframe tbody tr th {\n",
              "        vertical-align: top;\n",
              "    }\n",
              "\n",
              "    .dataframe thead th {\n",
              "        text-align: right;\n",
              "    }\n",
              "</style>\n",
              "<table border=\"1\" class=\"dataframe\">\n",
              "  <thead>\n",
              "    <tr style=\"text-align: right;\">\n",
              "      <th></th>\n",
              "      <th>target</th>\n",
              "      <th>text</th>\n",
              "    </tr>\n",
              "  </thead>\n",
              "  <tbody>\n",
              "    <tr>\n",
              "      <th>296746</th>\n",
              "      <td>Depressed</td>\n",
              "      <td>[ugh, ive, problem, past_years, kept_getting_w...</td>\n",
              "    </tr>\n",
              "    <tr>\n",
              "      <th>377066</th>\n",
              "      <td>Depressed</td>\n",
              "      <td>[suddenly_everythings, hard, confusing, tell, ...</td>\n",
              "    </tr>\n",
              "    <tr>\n",
              "      <th>433411</th>\n",
              "      <td>Depressed</td>\n",
              "      <td>[didnt, think, chesters_death, would, hit_hard]</td>\n",
              "    </tr>\n",
              "    <tr>\n",
              "      <th>55116</th>\n",
              "      <td>Depressed</td>\n",
              "      <td>[words, walk, stationthey, sit_next, train, fo...</td>\n",
              "    </tr>\n",
              "    <tr>\n",
              "      <th>379076</th>\n",
              "      <td>Depressed</td>\n",
              "      <td>[ive, spent_last, years, life, depressed, ive_...</td>\n",
              "    </tr>\n",
              "    <tr>\n",
              "      <th>...</th>\n",
              "      <td>...</td>\n",
              "      <td>...</td>\n",
              "    </tr>\n",
              "    <tr>\n",
              "      <th>169449</th>\n",
              "      <td>Not_Depressed</td>\n",
              "      <td>[feels_like, im, hungry, goes_away, eat, stoma...</td>\n",
              "    </tr>\n",
              "    <tr>\n",
              "      <th>290057</th>\n",
              "      <td>Not_Depressed</td>\n",
              "      <td>[ethiopia, uses, different, new, year, new, ye...</td>\n",
              "    </tr>\n",
              "    <tr>\n",
              "      <th>2552</th>\n",
              "      <td>Not_Depressed</td>\n",
              "      <td>[reddit_favorite, liferuining, gifs]</td>\n",
              "    </tr>\n",
              "    <tr>\n",
              "      <th>420625</th>\n",
              "      <td>Not_Depressed</td>\n",
              "      <td>[twothirds_american_millennials, believe_earth...</td>\n",
              "    </tr>\n",
              "    <tr>\n",
              "      <th>219838</th>\n",
              "      <td>Not_Depressed</td>\n",
              "      <td>[reading, lately, matter, internet, different,...</td>\n",
              "    </tr>\n",
              "  </tbody>\n",
              "</table>\n",
              "<p>529438 rows × 2 columns</p>\n",
              "</div>"
            ],
            "text/plain": [
              "               target                                               text\n",
              "296746      Depressed  [ugh, ive, problem, past_years, kept_getting_w...\n",
              "377066      Depressed  [suddenly_everythings, hard, confusing, tell, ...\n",
              "433411      Depressed    [didnt, think, chesters_death, would, hit_hard]\n",
              "55116       Depressed  [words, walk, stationthey, sit_next, train, fo...\n",
              "379076      Depressed  [ive, spent_last, years, life, depressed, ive_...\n",
              "...               ...                                                ...\n",
              "169449  Not_Depressed  [feels_like, im, hungry, goes_away, eat, stoma...\n",
              "290057  Not_Depressed  [ethiopia, uses, different, new, year, new, ye...\n",
              "2552    Not_Depressed               [reddit_favorite, liferuining, gifs]\n",
              "420625  Not_Depressed  [twothirds_american_millennials, believe_earth...\n",
              "219838  Not_Depressed  [reading, lately, matter, internet, different,...\n",
              "\n",
              "[529438 rows x 2 columns]"
            ]
          },
          "metadata": {
            "tags": []
          },
          "execution_count": 16
        }
      ]
    },
    {
      "cell_type": "code",
      "metadata": {
        "id": "2T7g4QCH5awo",
        "colab_type": "code",
        "colab": {
          "base_uri": "https://localhost:8080/",
          "height": 673
        },
        "outputId": "b4fe06ed-5d22-444a-fb00-a13b017a7749"
      },
      "source": [
        "df_train, df_test = train_test_split(df, test_size=1-TRAIN_SIZE, random_state=42)\n",
        "print(\"TRAIN size:\", len(df_train))\n",
        "print(\"TEST size:\", len(df_test))\n",
        "df_train.head(20)"
      ],
      "execution_count": null,
      "outputs": [
        {
          "output_type": "stream",
          "text": [
            "TRAIN size: 423550\n",
            "TEST size: 105888\n"
          ],
          "name": "stdout"
        },
        {
          "output_type": "execute_result",
          "data": {
            "text/html": [
              "<div>\n",
              "<style scoped>\n",
              "    .dataframe tbody tr th:only-of-type {\n",
              "        vertical-align: middle;\n",
              "    }\n",
              "\n",
              "    .dataframe tbody tr th {\n",
              "        vertical-align: top;\n",
              "    }\n",
              "\n",
              "    .dataframe thead th {\n",
              "        text-align: right;\n",
              "    }\n",
              "</style>\n",
              "<table border=\"1\" class=\"dataframe\">\n",
              "  <thead>\n",
              "    <tr style=\"text-align: right;\">\n",
              "      <th></th>\n",
              "      <th>target</th>\n",
              "      <th>text</th>\n",
              "    </tr>\n",
              "  </thead>\n",
              "  <tbody>\n",
              "    <tr>\n",
              "      <th>11928</th>\n",
              "      <td>Depressed</td>\n",
              "      <td>[hi, im, year_old_male, ive, depressed, whole_...</td>\n",
              "    </tr>\n",
              "    <tr>\n",
              "      <th>40348</th>\n",
              "      <td>Not_Depressed</td>\n",
              "      <td>[dumbest_thing_youve_done, accidentally, injure]</td>\n",
              "    </tr>\n",
              "    <tr>\n",
              "      <th>254668</th>\n",
              "      <td>Not_Depressed</td>\n",
              "      <td>[silphium_plant, induced, miscarriages, driven...</td>\n",
              "    </tr>\n",
              "    <tr>\n",
              "      <th>392618</th>\n",
              "      <td>Depressed</td>\n",
              "      <td>[im, conflicted, getting, help, find, hard, as...</td>\n",
              "    </tr>\n",
              "    <tr>\n",
              "      <th>61712</th>\n",
              "      <td>Not_Depressed</td>\n",
              "      <td>[never, get, tired]</td>\n",
              "    </tr>\n",
              "    <tr>\n",
              "      <th>512663</th>\n",
              "      <td>Not_Depressed</td>\n",
              "      <td>[worlds_oxygen, produced, amazon_rainforest]</td>\n",
              "    </tr>\n",
              "    <tr>\n",
              "      <th>185164</th>\n",
              "      <td>Not_Depressed</td>\n",
              "      <td>[keep, running_across, cannot, life, figure, e...</td>\n",
              "    </tr>\n",
              "    <tr>\n",
              "      <th>22781</th>\n",
              "      <td>Depressed</td>\n",
              "      <td>[whats_point, live, lives, time, cant, walk, h...</td>\n",
              "    </tr>\n",
              "    <tr>\n",
              "      <th>77028</th>\n",
              "      <td>Depressed</td>\n",
              "      <td>[mildly, concerned, depression, accompanied, p...</td>\n",
              "    </tr>\n",
              "    <tr>\n",
              "      <th>359714</th>\n",
              "      <td>Depressed</td>\n",
              "      <td>[incredibly, worthless, past_two_weeks, suicid...</td>\n",
              "    </tr>\n",
              "    <tr>\n",
              "      <th>430239</th>\n",
              "      <td>Depressed</td>\n",
              "      <td>[think, boys]</td>\n",
              "    </tr>\n",
              "    <tr>\n",
              "      <th>203650</th>\n",
              "      <td>Depressed</td>\n",
              "      <td>[might, kill, today]</td>\n",
              "    </tr>\n",
              "    <tr>\n",
              "      <th>132429</th>\n",
              "      <td>Depressed</td>\n",
              "      <td>[self_destructive, chance, get, help, people, ...</td>\n",
              "    </tr>\n",
              "    <tr>\n",
              "      <th>45230</th>\n",
              "      <td>Depressed</td>\n",
              "      <td>[life, extremely, bad, quit_job_weeks_ago, men...</td>\n",
              "    </tr>\n",
              "    <tr>\n",
              "      <th>341169</th>\n",
              "      <td>Not_Depressed</td>\n",
              "      <td>[thomas_edisons_last, breath_held_vial, henry_...</td>\n",
              "    </tr>\n",
              "    <tr>\n",
              "      <th>296695</th>\n",
              "      <td>Not_Depressed</td>\n",
              "      <td>[colonel_sanders, founded, kfc]</td>\n",
              "    </tr>\n",
              "    <tr>\n",
              "      <th>69562</th>\n",
              "      <td>Depressed</td>\n",
              "      <td>[listen_nf, like_nf_search, makes, feel, invin...</td>\n",
              "    </tr>\n",
              "    <tr>\n",
              "      <th>301933</th>\n",
              "      <td>Depressed</td>\n",
              "      <td>[dont, ton, say, really, good, day, feel, much...</td>\n",
              "    </tr>\n",
              "    <tr>\n",
              "      <th>436752</th>\n",
              "      <td>Not_Depressed</td>\n",
              "      <td>[caterpillars, hawaii, evolved, carnivorous]</td>\n",
              "    </tr>\n",
              "    <tr>\n",
              "      <th>398544</th>\n",
              "      <td>Not_Depressed</td>\n",
              "      <td>[first, pair, nike, running_shoes, made, waffl...</td>\n",
              "    </tr>\n",
              "  </tbody>\n",
              "</table>\n",
              "</div>"
            ],
            "text/plain": [
              "               target                                               text\n",
              "11928       Depressed  [hi, im, year_old_male, ive, depressed, whole_...\n",
              "40348   Not_Depressed   [dumbest_thing_youve_done, accidentally, injure]\n",
              "254668  Not_Depressed  [silphium_plant, induced, miscarriages, driven...\n",
              "392618      Depressed  [im, conflicted, getting, help, find, hard, as...\n",
              "61712   Not_Depressed                                [never, get, tired]\n",
              "512663  Not_Depressed       [worlds_oxygen, produced, amazon_rainforest]\n",
              "185164  Not_Depressed  [keep, running_across, cannot, life, figure, e...\n",
              "22781       Depressed  [whats_point, live, lives, time, cant, walk, h...\n",
              "77028       Depressed  [mildly, concerned, depression, accompanied, p...\n",
              "359714      Depressed  [incredibly, worthless, past_two_weeks, suicid...\n",
              "430239      Depressed                                      [think, boys]\n",
              "203650      Depressed                               [might, kill, today]\n",
              "132429      Depressed  [self_destructive, chance, get, help, people, ...\n",
              "45230       Depressed  [life, extremely, bad, quit_job_weeks_ago, men...\n",
              "341169  Not_Depressed  [thomas_edisons_last, breath_held_vial, henry_...\n",
              "296695  Not_Depressed                    [colonel_sanders, founded, kfc]\n",
              "69562       Depressed  [listen_nf, like_nf_search, makes, feel, invin...\n",
              "301933      Depressed  [dont, ton, say, really, good, day, feel, much...\n",
              "436752  Not_Depressed       [caterpillars, hawaii, evolved, carnivorous]\n",
              "398544  Not_Depressed  [first, pair, nike, running_shoes, made, waffl..."
            ]
          },
          "metadata": {
            "tags": []
          },
          "execution_count": 17
        }
      ]
    },
    {
      "cell_type": "code",
      "metadata": {
        "id": "lFNE9W_15cIl",
        "colab_type": "code",
        "colab": {
          "base_uri": "https://localhost:8080/",
          "height": 50
        },
        "outputId": "8e932342-fdb7-409e-9e40-a7e0419b8ccd"
      },
      "source": [
        "%%time\n",
        "documents = [_text for _text in df_train.text] "
      ],
      "execution_count": null,
      "outputs": [
        {
          "output_type": "stream",
          "text": [
            "CPU times: user 106 ms, sys: 1 ms, total: 107 ms\n",
            "Wall time: 106 ms\n"
          ],
          "name": "stdout"
        }
      ]
    },
    {
      "cell_type": "code",
      "metadata": {
        "id": "hi8O7E6F5dZY",
        "colab_type": "code",
        "colab": {}
      },
      "source": [
        "w2v_model = gensim.models.word2vec.Word2Vec(size=W2V_SIZE, \n",
        "                                            window=W2V_WINDOW, \n",
        "                                            min_count=W2V_MIN_COUNT, \n",
        "                                            workers=2)"
      ],
      "execution_count": null,
      "outputs": []
    },
    {
      "cell_type": "code",
      "metadata": {
        "id": "JIZVkkRv5f1n",
        "colab_type": "code",
        "colab": {
          "base_uri": "https://localhost:8080/",
          "height": 927
        },
        "outputId": "365dd87e-432b-4f23-cbb8-895a194c3b63"
      },
      "source": [
        "w2v_model.build_vocab(documents)\n"
      ],
      "execution_count": null,
      "outputs": [
        {
          "output_type": "stream",
          "text": [
            "2020-07-27 20:23:56,933 : INFO : collecting all words and their counts\n",
            "2020-07-27 20:23:56,934 : INFO : PROGRESS: at sentence #0, processed 0 words, keeping 0 word types\n",
            "2020-07-27 20:23:57,035 : INFO : PROGRESS: at sentence #10000, processed 397930 words, keeping 58676 word types\n",
            "2020-07-27 20:23:57,139 : INFO : PROGRESS: at sentence #20000, processed 788359 words, keeping 96205 word types\n",
            "2020-07-27 20:23:57,241 : INFO : PROGRESS: at sentence #30000, processed 1194222 words, keeping 130046 word types\n",
            "2020-07-27 20:23:57,352 : INFO : PROGRESS: at sentence #40000, processed 1598017 words, keeping 159587 word types\n",
            "2020-07-27 20:23:57,472 : INFO : PROGRESS: at sentence #50000, processed 2012779 words, keeping 186971 word types\n",
            "2020-07-27 20:23:57,588 : INFO : PROGRESS: at sentence #60000, processed 2408872 words, keeping 211699 word types\n",
            "2020-07-27 20:23:57,701 : INFO : PROGRESS: at sentence #70000, processed 2801565 words, keeping 235176 word types\n",
            "2020-07-27 20:23:57,810 : INFO : PROGRESS: at sentence #80000, processed 3188896 words, keeping 256792 word types\n",
            "2020-07-27 20:23:57,924 : INFO : PROGRESS: at sentence #90000, processed 3589781 words, keeping 277834 word types\n",
            "2020-07-27 20:23:58,038 : INFO : PROGRESS: at sentence #100000, processed 3996704 words, keeping 298107 word types\n",
            "2020-07-27 20:23:58,150 : INFO : PROGRESS: at sentence #110000, processed 4402755 words, keeping 317946 word types\n",
            "2020-07-27 20:23:58,258 : INFO : PROGRESS: at sentence #120000, processed 4791544 words, keeping 336337 word types\n",
            "2020-07-27 20:23:58,384 : INFO : PROGRESS: at sentence #130000, processed 5189453 words, keeping 354452 word types\n",
            "2020-07-27 20:23:58,501 : INFO : PROGRESS: at sentence #140000, processed 5599494 words, keeping 371906 word types\n",
            "2020-07-27 20:23:58,622 : INFO : PROGRESS: at sentence #150000, processed 6008785 words, keeping 388418 word types\n",
            "2020-07-27 20:23:58,737 : INFO : PROGRESS: at sentence #160000, processed 6404567 words, keeping 404578 word types\n",
            "2020-07-27 20:23:58,854 : INFO : PROGRESS: at sentence #170000, processed 6813377 words, keeping 420948 word types\n",
            "2020-07-27 20:23:58,975 : INFO : PROGRESS: at sentence #180000, processed 7216331 words, keeping 435958 word types\n",
            "2020-07-27 20:23:59,095 : INFO : PROGRESS: at sentence #190000, processed 7609637 words, keeping 450937 word types\n",
            "2020-07-27 20:23:59,215 : INFO : PROGRESS: at sentence #200000, processed 8005836 words, keeping 465556 word types\n",
            "2020-07-27 20:23:59,328 : INFO : PROGRESS: at sentence #210000, processed 8392650 words, keeping 479186 word types\n",
            "2020-07-27 20:23:59,446 : INFO : PROGRESS: at sentence #220000, processed 8801689 words, keeping 492862 word types\n",
            "2020-07-27 20:23:59,567 : INFO : PROGRESS: at sentence #230000, processed 9215760 words, keeping 506443 word types\n",
            "2020-07-27 20:23:59,683 : INFO : PROGRESS: at sentence #240000, processed 9616147 words, keeping 519647 word types\n",
            "2020-07-27 20:23:59,798 : INFO : PROGRESS: at sentence #250000, processed 10017106 words, keeping 532434 word types\n",
            "2020-07-27 20:23:59,912 : INFO : PROGRESS: at sentence #260000, processed 10420453 words, keeping 544398 word types\n",
            "2020-07-27 20:24:00,028 : INFO : PROGRESS: at sentence #270000, processed 10818473 words, keeping 555852 word types\n",
            "2020-07-27 20:24:00,146 : INFO : PROGRESS: at sentence #280000, processed 11217932 words, keeping 566864 word types\n",
            "2020-07-27 20:24:00,267 : INFO : PROGRESS: at sentence #290000, processed 11621092 words, keeping 577918 word types\n",
            "2020-07-27 20:24:00,386 : INFO : PROGRESS: at sentence #300000, processed 12018876 words, keeping 588608 word types\n",
            "2020-07-27 20:24:00,505 : INFO : PROGRESS: at sentence #310000, processed 12421768 words, keeping 599181 word types\n",
            "2020-07-27 20:24:00,625 : INFO : PROGRESS: at sentence #320000, processed 12815969 words, keeping 609708 word types\n",
            "2020-07-27 20:24:00,742 : INFO : PROGRESS: at sentence #330000, processed 13216388 words, keeping 619391 word types\n",
            "2020-07-27 20:24:00,861 : INFO : PROGRESS: at sentence #340000, processed 13620011 words, keeping 629045 word types\n",
            "2020-07-27 20:24:00,978 : INFO : PROGRESS: at sentence #350000, processed 14024927 words, keeping 638756 word types\n",
            "2020-07-27 20:24:01,097 : INFO : PROGRESS: at sentence #360000, processed 14424261 words, keeping 648135 word types\n",
            "2020-07-27 20:24:01,216 : INFO : PROGRESS: at sentence #370000, processed 14818595 words, keeping 656591 word types\n",
            "2020-07-27 20:24:01,335 : INFO : PROGRESS: at sentence #380000, processed 15226065 words, keeping 665264 word types\n",
            "2020-07-27 20:24:01,454 : INFO : PROGRESS: at sentence #390000, processed 15635864 words, keeping 673914 word types\n",
            "2020-07-27 20:24:01,568 : INFO : PROGRESS: at sentence #400000, processed 16030000 words, keeping 682032 word types\n",
            "2020-07-27 20:24:01,683 : INFO : PROGRESS: at sentence #410000, processed 16423227 words, keeping 689708 word types\n",
            "2020-07-27 20:24:01,799 : INFO : PROGRESS: at sentence #420000, processed 16824145 words, keeping 697458 word types\n",
            "2020-07-27 20:24:01,870 : INFO : collected 700177 word types from a corpus of 16969059 raw words and 423550 sentences\n",
            "2020-07-27 20:24:01,871 : INFO : Loading a fresh vocabulary\n",
            "2020-07-27 20:24:02,276 : INFO : effective_min_count=10 retains 56713 unique words (8% of original 700177, drops 643464)\n",
            "2020-07-27 20:24:02,277 : INFO : effective_min_count=10 leaves 15652836 word corpus (92% of original 16969059, drops 1316223)\n",
            "2020-07-27 20:24:02,466 : INFO : deleting the raw counts dictionary of 700177 items\n",
            "2020-07-27 20:24:02,488 : INFO : sample=0.001 downsamples 48 most-common words\n",
            "2020-07-27 20:24:02,489 : INFO : downsampling leaves estimated 13949481 word corpus (89.1% of prior 15652836)\n",
            "2020-07-27 20:24:02,683 : INFO : estimated required memory for 56713 words and 500 dimensions: 255208500 bytes\n",
            "2020-07-27 20:24:02,684 : INFO : resetting layer weights\n"
          ],
          "name": "stderr"
        }
      ]
    },
    {
      "cell_type": "code",
      "metadata": {
        "id": "56A33yMD5g-E",
        "colab_type": "code",
        "colab": {
          "base_uri": "https://localhost:8080/",
          "height": 34
        },
        "outputId": "0cd6b645-2737-401f-a70a-278783eeb0da"
      },
      "source": [
        "words = w2v_model.wv.vocab.keys()\n",
        "vocab_size = len(words)\n",
        "print(\"Vocab size\", vocab_size)"
      ],
      "execution_count": null,
      "outputs": [
        {
          "output_type": "stream",
          "text": [
            "Vocab size 56713\n"
          ],
          "name": "stdout"
        }
      ]
    },
    {
      "cell_type": "code",
      "metadata": {
        "id": "acnJraWk5iFd",
        "colab_type": "code",
        "colab": {
          "base_uri": "https://localhost:8080/",
          "height": 1000
        },
        "outputId": "e11f8ccb-0a82-4462-e142-7ebd54a44c95"
      },
      "source": [
        "%%time\n",
        "w2v_model.train(documents, total_examples=len(documents), epochs=W2V_EPOCH)"
      ],
      "execution_count": null,
      "outputs": [
        {
          "output_type": "stream",
          "text": [
            "2020-07-27 20:24:12,991 : INFO : training model with 2 workers on 56713 vocabulary and 500 features, using sg=0 hs=0 sample=0.001 negative=5 window=7\n",
            "2020-07-27 20:24:14,025 : INFO : EPOCH 1 - PROGRESS: at 2.89% examples, 387365 words/s, in_qsize 3, out_qsize 0\n",
            "2020-07-27 20:24:15,038 : INFO : EPOCH 1 - PROGRESS: at 5.85% examples, 394901 words/s, in_qsize 3, out_qsize 0\n",
            "2020-07-27 20:24:16,063 : INFO : EPOCH 1 - PROGRESS: at 8.69% examples, 395856 words/s, in_qsize 3, out_qsize 0\n",
            "2020-07-27 20:24:17,066 : INFO : EPOCH 1 - PROGRESS: at 11.49% examples, 394307 words/s, in_qsize 3, out_qsize 0\n",
            "2020-07-27 20:24:18,082 : INFO : EPOCH 1 - PROGRESS: at 14.34% examples, 393522 words/s, in_qsize 3, out_qsize 0\n",
            "2020-07-27 20:24:19,092 : INFO : EPOCH 1 - PROGRESS: at 17.20% examples, 392716 words/s, in_qsize 3, out_qsize 0\n",
            "2020-07-27 20:24:20,119 : INFO : EPOCH 1 - PROGRESS: at 20.17% examples, 393375 words/s, in_qsize 3, out_qsize 0\n",
            "2020-07-27 20:24:21,155 : INFO : EPOCH 1 - PROGRESS: at 23.10% examples, 393499 words/s, in_qsize 4, out_qsize 0\n",
            "2020-07-27 20:24:22,158 : INFO : EPOCH 1 - PROGRESS: at 25.85% examples, 393273 words/s, in_qsize 3, out_qsize 1\n",
            "2020-07-27 20:24:23,174 : INFO : EPOCH 1 - PROGRESS: at 28.85% examples, 394067 words/s, in_qsize 3, out_qsize 0\n",
            "2020-07-27 20:24:24,184 : INFO : EPOCH 1 - PROGRESS: at 31.69% examples, 394204 words/s, in_qsize 3, out_qsize 0\n",
            "2020-07-27 20:24:25,187 : INFO : EPOCH 1 - PROGRESS: at 34.48% examples, 394575 words/s, in_qsize 4, out_qsize 0\n",
            "2020-07-27 20:24:26,187 : INFO : EPOCH 1 - PROGRESS: at 37.30% examples, 394414 words/s, in_qsize 3, out_qsize 0\n",
            "2020-07-27 20:24:27,188 : INFO : EPOCH 1 - PROGRESS: at 40.08% examples, 393996 words/s, in_qsize 3, out_qsize 0\n",
            "2020-07-27 20:24:28,213 : INFO : EPOCH 1 - PROGRESS: at 42.89% examples, 393632 words/s, in_qsize 3, out_qsize 0\n",
            "2020-07-27 20:24:29,240 : INFO : EPOCH 1 - PROGRESS: at 45.89% examples, 393906 words/s, in_qsize 3, out_qsize 0\n",
            "2020-07-27 20:24:30,245 : INFO : EPOCH 1 - PROGRESS: at 48.66% examples, 392699 words/s, in_qsize 4, out_qsize 1\n",
            "2020-07-27 20:24:31,277 : INFO : EPOCH 1 - PROGRESS: at 51.59% examples, 392831 words/s, in_qsize 3, out_qsize 0\n",
            "2020-07-27 20:24:32,313 : INFO : EPOCH 1 - PROGRESS: at 54.29% examples, 392024 words/s, in_qsize 3, out_qsize 0\n",
            "2020-07-27 20:24:33,319 : INFO : EPOCH 1 - PROGRESS: at 56.99% examples, 391047 words/s, in_qsize 3, out_qsize 0\n",
            "2020-07-27 20:24:34,339 : INFO : EPOCH 1 - PROGRESS: at 59.78% examples, 390691 words/s, in_qsize 3, out_qsize 0\n",
            "2020-07-27 20:24:35,347 : INFO : EPOCH 1 - PROGRESS: at 62.55% examples, 390607 words/s, in_qsize 3, out_qsize 0\n",
            "2020-07-27 20:24:36,370 : INFO : EPOCH 1 - PROGRESS: at 65.36% examples, 389920 words/s, in_qsize 3, out_qsize 0\n",
            "2020-07-27 20:24:37,375 : INFO : EPOCH 1 - PROGRESS: at 67.99% examples, 389125 words/s, in_qsize 3, out_qsize 0\n",
            "2020-07-27 20:24:38,386 : INFO : EPOCH 1 - PROGRESS: at 70.83% examples, 389084 words/s, in_qsize 3, out_qsize 0\n",
            "2020-07-27 20:24:39,407 : INFO : EPOCH 1 - PROGRESS: at 73.62% examples, 388817 words/s, in_qsize 3, out_qsize 0\n",
            "2020-07-27 20:24:40,435 : INFO : EPOCH 1 - PROGRESS: at 76.48% examples, 388529 words/s, in_qsize 3, out_qsize 0\n",
            "2020-07-27 20:24:41,450 : INFO : EPOCH 1 - PROGRESS: at 79.17% examples, 387880 words/s, in_qsize 4, out_qsize 0\n",
            "2020-07-27 20:24:42,472 : INFO : EPOCH 1 - PROGRESS: at 81.92% examples, 387710 words/s, in_qsize 3, out_qsize 0\n",
            "2020-07-27 20:24:43,510 : INFO : EPOCH 1 - PROGRESS: at 84.85% examples, 387885 words/s, in_qsize 4, out_qsize 0\n",
            "2020-07-27 20:24:44,525 : INFO : EPOCH 1 - PROGRESS: at 87.71% examples, 387818 words/s, in_qsize 3, out_qsize 0\n",
            "2020-07-27 20:24:45,533 : INFO : EPOCH 1 - PROGRESS: at 90.48% examples, 388108 words/s, in_qsize 3, out_qsize 0\n",
            "2020-07-27 20:24:46,555 : INFO : EPOCH 1 - PROGRESS: at 93.33% examples, 388216 words/s, in_qsize 3, out_qsize 0\n",
            "2020-07-27 20:24:47,587 : INFO : EPOCH 1 - PROGRESS: at 96.32% examples, 388435 words/s, in_qsize 3, out_qsize 0\n",
            "2020-07-27 20:24:48,592 : INFO : EPOCH 1 - PROGRESS: at 99.13% examples, 388455 words/s, in_qsize 3, out_qsize 0\n",
            "2020-07-27 20:24:48,891 : INFO : worker thread finished; awaiting finish of 1 more threads\n",
            "2020-07-27 20:24:48,894 : INFO : worker thread finished; awaiting finish of 0 more threads\n",
            "2020-07-27 20:24:48,895 : INFO : EPOCH - 1 : training on 16969059 raw words (13950384 effective words) took 35.9s, 388612 effective words/s\n",
            "2020-07-27 20:24:49,901 : INFO : EPOCH 2 - PROGRESS: at 2.77% examples, 381607 words/s, in_qsize 3, out_qsize 0\n",
            "2020-07-27 20:24:50,904 : INFO : EPOCH 2 - PROGRESS: at 5.65% examples, 385859 words/s, in_qsize 3, out_qsize 0\n",
            "2020-07-27 20:24:51,935 : INFO : EPOCH 2 - PROGRESS: at 8.37% examples, 384093 words/s, in_qsize 3, out_qsize 0\n",
            "2020-07-27 20:24:52,958 : INFO : EPOCH 2 - PROGRESS: at 11.27% examples, 387179 words/s, in_qsize 3, out_qsize 0\n",
            "2020-07-27 20:24:53,983 : INFO : EPOCH 2 - PROGRESS: at 14.14% examples, 388831 words/s, in_qsize 3, out_qsize 0\n",
            "2020-07-27 20:24:55,022 : INFO : EPOCH 2 - PROGRESS: at 17.14% examples, 389551 words/s, in_qsize 3, out_qsize 0\n",
            "2020-07-27 20:24:56,027 : INFO : EPOCH 2 - PROGRESS: at 20.00% examples, 389646 words/s, in_qsize 3, out_qsize 0\n",
            "2020-07-27 20:24:57,040 : INFO : EPOCH 2 - PROGRESS: at 22.84% examples, 389262 words/s, in_qsize 3, out_qsize 0\n",
            "2020-07-27 20:24:58,048 : INFO : EPOCH 2 - PROGRESS: at 25.60% examples, 390197 words/s, in_qsize 3, out_qsize 0\n",
            "2020-07-27 20:24:59,062 : INFO : EPOCH 2 - PROGRESS: at 28.50% examples, 389815 words/s, in_qsize 3, out_qsize 0\n",
            "2020-07-27 20:25:00,097 : INFO : EPOCH 2 - PROGRESS: at 31.43% examples, 390200 words/s, in_qsize 3, out_qsize 0\n",
            "2020-07-27 20:25:01,098 : INFO : EPOCH 2 - PROGRESS: at 34.21% examples, 391016 words/s, in_qsize 4, out_qsize 0\n",
            "2020-07-27 20:25:02,102 : INFO : EPOCH 2 - PROGRESS: at 37.01% examples, 390967 words/s, in_qsize 4, out_qsize 0\n",
            "2020-07-27 20:25:03,115 : INFO : EPOCH 2 - PROGRESS: at 39.72% examples, 389926 words/s, in_qsize 3, out_qsize 0\n",
            "2020-07-27 20:25:04,141 : INFO : EPOCH 2 - PROGRESS: at 42.63% examples, 390407 words/s, in_qsize 3, out_qsize 0\n",
            "2020-07-27 20:25:05,144 : INFO : EPOCH 2 - PROGRESS: at 45.47% examples, 390379 words/s, in_qsize 3, out_qsize 0\n",
            "2020-07-27 20:25:06,144 : INFO : EPOCH 2 - PROGRESS: at 48.40% examples, 390884 words/s, in_qsize 3, out_qsize 0\n",
            "2020-07-27 20:25:07,170 : INFO : EPOCH 2 - PROGRESS: at 51.33% examples, 390837 words/s, in_qsize 3, out_qsize 0\n",
            "2020-07-27 20:25:08,199 : INFO : EPOCH 2 - PROGRESS: at 54.13% examples, 391125 words/s, in_qsize 4, out_qsize 0\n",
            "2020-07-27 20:25:09,208 : INFO : EPOCH 2 - PROGRESS: at 56.99% examples, 391338 words/s, in_qsize 3, out_qsize 0\n",
            "2020-07-27 20:25:10,219 : INFO : EPOCH 2 - PROGRESS: at 59.71% examples, 390752 words/s, in_qsize 3, out_qsize 0\n",
            "2020-07-27 20:25:11,248 : INFO : EPOCH 2 - PROGRESS: at 62.60% examples, 391034 words/s, in_qsize 3, out_qsize 0\n",
            "2020-07-27 20:25:12,279 : INFO : EPOCH 2 - PROGRESS: at 65.59% examples, 391252 words/s, in_qsize 3, out_qsize 0\n",
            "2020-07-27 20:25:13,284 : INFO : EPOCH 2 - PROGRESS: at 68.35% examples, 391070 words/s, in_qsize 3, out_qsize 0\n",
            "2020-07-27 20:25:14,289 : INFO : EPOCH 2 - PROGRESS: at 71.27% examples, 391372 words/s, in_qsize 3, out_qsize 0\n",
            "2020-07-27 20:25:15,291 : INFO : EPOCH 2 - PROGRESS: at 74.04% examples, 391287 words/s, in_qsize 3, out_qsize 0\n",
            "2020-07-27 20:25:16,312 : INFO : EPOCH 2 - PROGRESS: at 76.93% examples, 391296 words/s, in_qsize 3, out_qsize 0\n",
            "2020-07-27 20:25:17,316 : INFO : EPOCH 2 - PROGRESS: at 79.79% examples, 391583 words/s, in_qsize 3, out_qsize 0\n",
            "2020-07-27 20:25:18,337 : INFO : EPOCH 2 - PROGRESS: at 82.62% examples, 391571 words/s, in_qsize 3, out_qsize 0\n",
            "2020-07-27 20:25:19,367 : INFO : EPOCH 2 - PROGRESS: at 85.56% examples, 391695 words/s, in_qsize 3, out_qsize 0\n",
            "2020-07-27 20:25:20,395 : INFO : EPOCH 2 - PROGRESS: at 88.51% examples, 391872 words/s, in_qsize 3, out_qsize 0\n",
            "2020-07-27 20:25:21,417 : INFO : EPOCH 2 - PROGRESS: at 91.33% examples, 392103 words/s, in_qsize 3, out_qsize 0\n",
            "2020-07-27 20:25:22,448 : INFO : EPOCH 2 - PROGRESS: at 94.30% examples, 392230 words/s, in_qsize 3, out_qsize 0\n",
            "2020-07-27 20:25:23,453 : INFO : EPOCH 2 - PROGRESS: at 97.15% examples, 392138 words/s, in_qsize 3, out_qsize 0\n",
            "2020-07-27 20:25:24,439 : INFO : worker thread finished; awaiting finish of 1 more threads\n",
            "2020-07-27 20:25:24,447 : INFO : worker thread finished; awaiting finish of 0 more threads\n",
            "2020-07-27 20:25:24,448 : INFO : EPOCH - 2 : training on 16969059 raw words (13950473 effective words) took 35.5s, 392425 effective words/s\n",
            "2020-07-27 20:25:25,461 : INFO : EPOCH 3 - PROGRESS: at 2.77% examples, 379248 words/s, in_qsize 3, out_qsize 0\n",
            "2020-07-27 20:25:26,490 : INFO : EPOCH 3 - PROGRESS: at 5.74% examples, 387881 words/s, in_qsize 4, out_qsize 0\n",
            "2020-07-27 20:25:27,497 : INFO : EPOCH 3 - PROGRESS: at 8.54% examples, 391383 words/s, in_qsize 4, out_qsize 0\n",
            "2020-07-27 20:25:28,520 : INFO : EPOCH 3 - PROGRESS: at 11.43% examples, 392632 words/s, in_qsize 3, out_qsize 0\n",
            "2020-07-27 20:25:29,538 : INFO : EPOCH 3 - PROGRESS: at 14.34% examples, 393730 words/s, in_qsize 3, out_qsize 0\n",
            "2020-07-27 20:25:30,542 : INFO : EPOCH 3 - PROGRESS: at 17.20% examples, 393178 words/s, in_qsize 3, out_qsize 0\n",
            "2020-07-27 20:25:31,546 : INFO : EPOCH 3 - PROGRESS: at 20.10% examples, 393909 words/s, in_qsize 4, out_qsize 0\n",
            "2020-07-27 20:25:32,561 : INFO : EPOCH 3 - PROGRESS: at 23.01% examples, 393958 words/s, in_qsize 3, out_qsize 0\n",
            "2020-07-27 20:25:33,567 : INFO : EPOCH 3 - PROGRESS: at 25.78% examples, 394428 words/s, in_qsize 3, out_qsize 0\n",
            "2020-07-27 20:25:34,571 : INFO : EPOCH 3 - PROGRESS: at 28.68% examples, 393984 words/s, in_qsize 3, out_qsize 0\n",
            "2020-07-27 20:25:35,599 : INFO : EPOCH 3 - PROGRESS: at 31.49% examples, 392782 words/s, in_qsize 3, out_qsize 0\n",
            "2020-07-27 20:25:36,601 : INFO : EPOCH 3 - PROGRESS: at 34.27% examples, 393296 words/s, in_qsize 3, out_qsize 0\n",
            "2020-07-27 20:25:37,604 : INFO : EPOCH 3 - PROGRESS: at 37.07% examples, 393116 words/s, in_qsize 3, out_qsize 0\n",
            "2020-07-27 20:25:38,622 : INFO : EPOCH 3 - PROGRESS: at 39.95% examples, 393495 words/s, in_qsize 3, out_qsize 0\n",
            "2020-07-27 20:25:39,624 : INFO : EPOCH 3 - PROGRESS: at 42.75% examples, 393285 words/s, in_qsize 3, out_qsize 0\n",
            "2020-07-27 20:25:40,652 : INFO : EPOCH 3 - PROGRESS: at 45.70% examples, 393480 words/s, in_qsize 3, out_qsize 0\n",
            "2020-07-27 20:25:41,655 : INFO : EPOCH 3 - PROGRESS: at 48.66% examples, 393752 words/s, in_qsize 3, out_qsize 0\n",
            "2020-07-27 20:25:42,657 : INFO : EPOCH 3 - PROGRESS: at 51.54% examples, 394036 words/s, in_qsize 3, out_qsize 0\n",
            "2020-07-27 20:25:43,670 : INFO : EPOCH 3 - PROGRESS: at 54.29% examples, 394048 words/s, in_qsize 3, out_qsize 0\n",
            "2020-07-27 20:25:44,696 : INFO : EPOCH 3 - PROGRESS: at 57.23% examples, 394173 words/s, in_qsize 3, out_qsize 0\n",
            "2020-07-27 20:25:45,722 : INFO : EPOCH 3 - PROGRESS: at 60.13% examples, 394323 words/s, in_qsize 3, out_qsize 0\n",
            "2020-07-27 20:25:46,726 : INFO : EPOCH 3 - PROGRESS: at 62.91% examples, 394157 words/s, in_qsize 3, out_qsize 0\n",
            "2020-07-27 20:25:47,739 : INFO : EPOCH 3 - PROGRESS: at 65.89% examples, 394522 words/s, in_qsize 3, out_qsize 0\n",
            "2020-07-27 20:25:48,769 : INFO : EPOCH 3 - PROGRESS: at 68.74% examples, 394485 words/s, in_qsize 3, out_qsize 0\n",
            "2020-07-27 20:25:49,797 : INFO : EPOCH 3 - PROGRESS: at 71.76% examples, 394566 words/s, in_qsize 3, out_qsize 0\n",
            "2020-07-27 20:25:50,825 : INFO : EPOCH 3 - PROGRESS: at 74.64% examples, 394610 words/s, in_qsize 3, out_qsize 0\n",
            "2020-07-27 20:25:51,831 : INFO : EPOCH 3 - PROGRESS: at 77.51% examples, 394721 words/s, in_qsize 4, out_qsize 0\n",
            "2020-07-27 20:25:52,835 : INFO : EPOCH 3 - PROGRESS: at 80.31% examples, 394614 words/s, in_qsize 3, out_qsize 0\n",
            "2020-07-27 20:25:53,859 : INFO : EPOCH 3 - PROGRESS: at 83.15% examples, 394434 words/s, in_qsize 3, out_qsize 0\n",
            "2020-07-27 20:25:54,862 : INFO : EPOCH 3 - PROGRESS: at 86.06% examples, 394553 words/s, in_qsize 4, out_qsize 0\n",
            "2020-07-27 20:25:55,897 : INFO : EPOCH 3 - PROGRESS: at 88.90% examples, 394305 words/s, in_qsize 3, out_qsize 0\n",
            "2020-07-27 20:25:56,902 : INFO : EPOCH 3 - PROGRESS: at 91.69% examples, 394423 words/s, in_qsize 3, out_qsize 0\n",
            "2020-07-27 20:25:57,903 : INFO : EPOCH 3 - PROGRESS: at 94.49% examples, 394078 words/s, in_qsize 3, out_qsize 0\n",
            "2020-07-27 20:25:58,930 : INFO : EPOCH 3 - PROGRESS: at 97.45% examples, 394177 words/s, in_qsize 3, out_qsize 0\n",
            "2020-07-27 20:25:59,814 : INFO : worker thread finished; awaiting finish of 1 more threads\n",
            "2020-07-27 20:25:59,846 : INFO : worker thread finished; awaiting finish of 0 more threads\n",
            "2020-07-27 20:25:59,846 : INFO : EPOCH - 3 : training on 16969059 raw words (13949344 effective words) took 35.4s, 394131 effective words/s\n",
            "2020-07-27 20:26:00,883 : INFO : EPOCH 4 - PROGRESS: at 2.89% examples, 386621 words/s, in_qsize 3, out_qsize 0\n",
            "2020-07-27 20:26:01,902 : INFO : EPOCH 4 - PROGRESS: at 5.85% examples, 393304 words/s, in_qsize 3, out_qsize 0\n",
            "2020-07-27 20:26:02,907 : INFO : EPOCH 4 - PROGRESS: at 8.59% examples, 391929 words/s, in_qsize 3, out_qsize 0\n",
            "2020-07-27 20:26:03,914 : INFO : EPOCH 4 - PROGRESS: at 11.43% examples, 392921 words/s, in_qsize 3, out_qsize 0\n",
            "2020-07-27 20:26:04,926 : INFO : EPOCH 4 - PROGRESS: at 14.34% examples, 394408 words/s, in_qsize 3, out_qsize 0\n",
            "2020-07-27 20:26:05,957 : INFO : EPOCH 4 - PROGRESS: at 17.28% examples, 393406 words/s, in_qsize 4, out_qsize 1\n",
            "2020-07-27 20:26:06,967 : INFO : EPOCH 4 - PROGRESS: at 20.10% examples, 392582 words/s, in_qsize 3, out_qsize 0\n",
            "2020-07-27 20:26:07,974 : INFO : EPOCH 4 - PROGRESS: at 22.96% examples, 392176 words/s, in_qsize 3, out_qsize 0\n",
            "2020-07-27 20:26:08,983 : INFO : EPOCH 4 - PROGRESS: at 25.66% examples, 391871 words/s, in_qsize 3, out_qsize 0\n",
            "2020-07-27 20:26:10,013 : INFO : EPOCH 4 - PROGRESS: at 28.68% examples, 392236 words/s, in_qsize 3, out_qsize 0\n",
            "2020-07-27 20:26:11,019 : INFO : EPOCH 4 - PROGRESS: at 31.53% examples, 392718 words/s, in_qsize 4, out_qsize 0\n",
            "2020-07-27 20:26:12,054 : INFO : EPOCH 4 - PROGRESS: at 34.32% examples, 392202 words/s, in_qsize 3, out_qsize 0\n",
            "2020-07-27 20:26:13,068 : INFO : EPOCH 4 - PROGRESS: at 37.12% examples, 391818 words/s, in_qsize 3, out_qsize 1\n",
            "2020-07-27 20:26:14,100 : INFO : EPOCH 4 - PROGRESS: at 40.01% examples, 391891 words/s, in_qsize 3, out_qsize 0\n",
            "2020-07-27 20:26:15,117 : INFO : EPOCH 4 - PROGRESS: at 42.89% examples, 392365 words/s, in_qsize 3, out_qsize 0\n",
            "2020-07-27 20:26:16,135 : INFO : EPOCH 4 - PROGRESS: at 45.76% examples, 391938 words/s, in_qsize 4, out_qsize 0\n",
            "2020-07-27 20:26:17,139 : INFO : EPOCH 4 - PROGRESS: at 48.66% examples, 391800 words/s, in_qsize 3, out_qsize 0\n",
            "2020-07-27 20:26:18,152 : INFO : EPOCH 4 - PROGRESS: at 51.48% examples, 391529 words/s, in_qsize 3, out_qsize 0\n",
            "2020-07-27 20:26:19,186 : INFO : EPOCH 4 - PROGRESS: at 54.29% examples, 391661 words/s, in_qsize 4, out_qsize 0\n",
            "2020-07-27 20:26:20,223 : INFO : EPOCH 4 - PROGRESS: at 57.23% examples, 391714 words/s, in_qsize 4, out_qsize 0\n",
            "2020-07-27 20:26:21,238 : INFO : EPOCH 4 - PROGRESS: at 60.13% examples, 392175 words/s, in_qsize 3, out_qsize 0\n",
            "2020-07-27 20:26:22,272 : INFO : EPOCH 4 - PROGRESS: at 63.04% examples, 392303 words/s, in_qsize 3, out_qsize 0\n",
            "2020-07-27 20:26:23,287 : INFO : EPOCH 4 - PROGRESS: at 66.00% examples, 392708 words/s, in_qsize 3, out_qsize 0\n",
            "2020-07-27 20:26:24,312 : INFO : EPOCH 4 - PROGRESS: at 68.91% examples, 393180 words/s, in_qsize 3, out_qsize 0\n",
            "2020-07-27 20:26:25,345 : INFO : EPOCH 4 - PROGRESS: at 71.93% examples, 393244 words/s, in_qsize 3, out_qsize 0\n",
            "2020-07-27 20:26:26,378 : INFO : EPOCH 4 - PROGRESS: at 74.80% examples, 393250 words/s, in_qsize 3, out_qsize 0\n",
            "2020-07-27 20:26:27,380 : INFO : EPOCH 4 - PROGRESS: at 77.68% examples, 393459 words/s, in_qsize 3, out_qsize 0\n",
            "2020-07-27 20:26:28,397 : INFO : EPOCH 4 - PROGRESS: at 80.43% examples, 392922 words/s, in_qsize 2, out_qsize 1\n",
            "2020-07-27 20:26:29,403 : INFO : EPOCH 4 - PROGRESS: at 83.27% examples, 393054 words/s, in_qsize 4, out_qsize 0\n",
            "2020-07-27 20:26:30,419 : INFO : EPOCH 4 - PROGRESS: at 86.18% examples, 393036 words/s, in_qsize 3, out_qsize 0\n",
            "2020-07-27 20:26:31,458 : INFO : EPOCH 4 - PROGRESS: at 89.07% examples, 393052 words/s, in_qsize 3, out_qsize 0\n",
            "2020-07-27 20:26:32,499 : INFO : EPOCH 4 - PROGRESS: at 91.94% examples, 393010 words/s, in_qsize 3, out_qsize 0\n",
            "2020-07-27 20:26:33,523 : INFO : EPOCH 4 - PROGRESS: at 94.88% examples, 393172 words/s, in_qsize 3, out_qsize 0\n",
            "2020-07-27 20:26:34,523 : INFO : EPOCH 4 - PROGRESS: at 97.75% examples, 393126 words/s, in_qsize 2, out_qsize 1\n",
            "2020-07-27 20:26:35,297 : INFO : worker thread finished; awaiting finish of 1 more threads\n",
            "2020-07-27 20:26:35,299 : INFO : worker thread finished; awaiting finish of 0 more threads\n",
            "2020-07-27 20:26:35,300 : INFO : EPOCH - 4 : training on 16969059 raw words (13949435 effective words) took 35.4s, 393507 effective words/s\n",
            "2020-07-27 20:26:35,301 : INFO : training on a 67876236 raw words (55799636 effective words) took 142.3s, 392102 effective words/s\n"
          ],
          "name": "stderr"
        },
        {
          "output_type": "stream",
          "text": [
            "CPU times: user 4min 43s, sys: 696 ms, total: 4min 44s\n",
            "Wall time: 2min 22s\n"
          ],
          "name": "stdout"
        },
        {
          "output_type": "execute_result",
          "data": {
            "text/plain": [
              "(55799636, 67876236)"
            ]
          },
          "metadata": {
            "tags": []
          },
          "execution_count": 22
        }
      ]
    },
    {
      "cell_type": "code",
      "metadata": {
        "id": "YTfUCfRk5kE-",
        "colab_type": "code",
        "colab": {
          "base_uri": "https://localhost:8080/",
          "height": 289
        },
        "outputId": "c57e747a-dc51-41d4-92e7-5df5c32391de"
      },
      "source": [
        "w2v_model.most_similar(\"depression\")"
      ],
      "execution_count": null,
      "outputs": [
        {
          "output_type": "stream",
          "text": [
            "/usr/local/lib/python3.6/dist-packages/ipykernel_launcher.py:1: DeprecationWarning: Call to deprecated `most_similar` (Method will be removed in 4.0.0, use self.wv.most_similar() instead).\n",
            "  \"\"\"Entry point for launching an IPython kernel.\n",
            "2020-07-27 20:26:35,312 : INFO : precomputing L2-norms of word weight vectors\n",
            "/usr/local/lib/python3.6/dist-packages/gensim/matutils.py:737: FutureWarning: Conversion of the second argument of issubdtype from `int` to `np.signedinteger` is deprecated. In future, it will be treated as `np.int64 == np.dtype(int).type`.\n",
            "  if np.issubdtype(vec.dtype, np.int):\n"
          ],
          "name": "stderr"
        },
        {
          "output_type": "execute_result",
          "data": {
            "text/plain": [
              "[('depression_anxiety', 0.8047016859054565),\n",
              " ('anxiety_depression', 0.704744815826416),\n",
              " ('severe_depression', 0.6573858261108398),\n",
              " ('clinical_depression', 0.647645115852356),\n",
              " ('mental_illness', 0.6200180649757385),\n",
              " ('depressions', 0.6161950826644897),\n",
              " ('illness', 0.6133061647415161),\n",
              " ('depressive_episodes', 0.6056836843490601),\n",
              " ('depressionanxiety', 0.5896062850952148),\n",
              " ('major_depression', 0.5781324505805969)]"
            ]
          },
          "metadata": {
            "tags": []
          },
          "execution_count": 23
        }
      ]
    },
    {
      "cell_type": "code",
      "metadata": {
        "id": "WOkTB7S_5lp5",
        "colab_type": "code",
        "colab": {
          "base_uri": "https://localhost:8080/",
          "height": 67
        },
        "outputId": "57a82840-b437-410a-d783-e83d4fe846c4"
      },
      "source": [
        "%%time\n",
        "tokenizer = Tokenizer()\n",
        "tokenizer.fit_on_texts(df_train.text)\n",
        "\n",
        "vocab_size = len(tokenizer.word_index) + 1\n",
        "print(\"Total words\", vocab_size)"
      ],
      "execution_count": null,
      "outputs": [
        {
          "output_type": "stream",
          "text": [
            "Total words 700178\n",
            "CPU times: user 14.2 s, sys: 382 ms, total: 14.6 s\n",
            "Wall time: 14.3 s\n"
          ],
          "name": "stdout"
        }
      ]
    },
    {
      "cell_type": "code",
      "metadata": {
        "id": "Bq-glaMB5m17",
        "colab_type": "code",
        "colab": {
          "base_uri": "https://localhost:8080/",
          "height": 168
        },
        "outputId": "6028bfe5-087a-4a9e-9182-5cb7ccecc56d"
      },
      "source": [
        "%%time\n",
        "x_train = pad_sequences(tokenizer.texts_to_sequences(df_train.text), maxlen=SEQUENCE_LENGTH)\n",
        "x_test = pad_sequences(tokenizer.texts_to_sequences(df_test.text), maxlen=SEQUENCE_LENGTH)\n",
        "print(x_train)"
      ],
      "execution_count": null,
      "outputs": [
        {
          "output_type": "stream",
          "text": [
            "[[     0      0      0 ...   2557     53     62]\n",
            " [     0      0      0 ... 137155   2204  15223]\n",
            " [     0      0      0 ... 195144   6716  36546]\n",
            " ...\n",
            " [     0      0      0 ...   6469   2156    191]\n",
            " [     0      0      0 ...    145     44      4]\n",
            " [     0      0      0 ...    178    147    550]]\n",
            "CPU times: user 15.3 s, sys: 278 ms, total: 15.5 s\n",
            "Wall time: 15.6 s\n"
          ],
          "name": "stdout"
        }
      ]
    },
    {
      "cell_type": "code",
      "metadata": {
        "id": "WqSjKQv45oZ6",
        "colab_type": "code",
        "colab": {
          "base_uri": "https://localhost:8080/",
          "height": 790
        },
        "outputId": "c875e45d-e517-4fb3-92b1-e8be74f1c081"
      },
      "source": [
        "x_train[123312]"
      ],
      "execution_count": null,
      "outputs": [
        {
          "output_type": "execute_result",
          "data": {
            "text/plain": [
              "array([   0,    0,    0,    0,    0,    0,    0,    0,    0,    0,    0,\n",
              "          0,    0,    0,    0,    0,    0,    0,    0,    0,    0,    0,\n",
              "          0,    0,    0,    0,    0,    0,    0,    0,    0,    0,    0,\n",
              "          0,    0,    0,    0,    0,    0,    0,    0,    0,    0,    0,\n",
              "          0,    0,    0,    0,    0,    0,    0,    0,    0,    0,    0,\n",
              "          0,    0,    0,    0,    0,    0,    0,    0,    0,    0,    0,\n",
              "          0,    0,    0,    0,    0,    0,    0,    0,    0,    0,    0,\n",
              "          0,    0,    0,    0,    0,    0,    0,    0,    0,    0,    0,\n",
              "          0,    0,    0,    0,    0,    0,    0,    0,    0,    0,    0,\n",
              "          0,    0,    0,    0,    0,    0,    0,    0,    0,    0,    0,\n",
              "          0,    0,    0,    0,    0,    0,    0,    0,    0,    0,    0,\n",
              "          0,    0,    0,    0,    0,    0,    0,    0,    0,    0,    0,\n",
              "          0,    0,    0,    0,    0,    0,    0,    0,    0,    0,    0,\n",
              "          0,    0,    0,    0,    0,    0,    0,    0,    0,    0,    0,\n",
              "          0,    0,    0,    0,    0,    0,    0,    0,    0,    0,    0,\n",
              "          0,    0,    0,    0,    0,    0,    0,    0,    0,    0,    0,\n",
              "          0,    0,    0,    0,    0,    0,    0,    0,    0,    0,    0,\n",
              "          0,    0,    0,    0,    0,    0,    0,    0,    0,    0,    0,\n",
              "          0,    0,    0,    0,    0,    0,    0,    0,    0,    0,    0,\n",
              "          0,    0,    0,    0,    0,    0,    0,    0,    0,    0,    0,\n",
              "          0,    0,    0,    0,    0,    0,    0,    0,    0,    0,    0,\n",
              "          0,    0,    0,    0,    0,    0,    0,    0,    0,    0,    0,\n",
              "          0,    0,    0,    0,    0,    0,    0,    0,    0,    0,    0,\n",
              "          0,    0,    0,    0,    0,    0,    0,    0,    0,    0,    0,\n",
              "          0,    0,    0,    0,    0,    0,    0,    0,    0,    0,    0,\n",
              "          0,    0,    0,    0,    0,    0,    0,    0,    0,    0,    0,\n",
              "          0,    0,    0,    0,    0,    0,    0,    0,    0,    0,    0,\n",
              "          0,    0,    0,    0,    0,    0,    0,    0,    0,    0,    0,\n",
              "          0,    0,    0,    0,    0,    0,    0,    0,    0,    0,    0,\n",
              "          0,    0,    0,    0,    0,    0,    0,    0,    0,    0,    0,\n",
              "          0,    0,    0,    0,    0,    0,    0,    0,    0,    0,    0,\n",
              "          0,    0,    0,    0,    0,    0,    0,    0,    0,    0,    0,\n",
              "          0,    0,    0,    0,    0,    0,    0,    0,    0,    0,    0,\n",
              "          0,    0,    0,    0,    0,    0,    0,    0,    0,    0,    0,\n",
              "          0,    0,    0,    0,    0,    0,    0,    0,    0,    0,    0,\n",
              "          0,    0,    0,    0,    0,    0,    0,    0,    0,    0,    0,\n",
              "          0,    0,    0,    0,    0,    0,    0,    0,    0,    0,    0,\n",
              "          0,    0,    0,    0,    0,    0,    0,    0,    0,    0,    0,\n",
              "          0,    0,    0,    0,    0,    0,    0,    0,    0,    0,    0,\n",
              "          0,    0,    0,    0,    0,    0,    0,    0,    0,    0,    0,\n",
              "          0,    0,    0,    0,    0,    0,    0,    0,    0,    0,    0,\n",
              "          0,    0,    0,    0,    0,    0,    0,    0,    0,    0,    0,\n",
              "          0,    0,    0,    0,    0,    0,    0,    0,    0,    0,    0,\n",
              "          0,    0,    0,  193,   40,   28,  475, 3187, 1087,   45,   26,\n",
              "          6,   13,    3,   31,   97,   54,   49,    3,   19,   71,   11,\n",
              "        912, 2282,    7,  388,  515], dtype=int32)"
            ]
          },
          "metadata": {
            "tags": []
          },
          "execution_count": 26
        }
      ]
    },
    {
      "cell_type": "code",
      "metadata": {
        "id": "uVKYjLi75qGf",
        "colab_type": "code",
        "colab": {
          "base_uri": "https://localhost:8080/",
          "height": 34
        },
        "outputId": "0861584e-d65b-4bc6-f1f6-9c6f0a9db67b"
      },
      "source": [
        "labels = df_train.target.unique().tolist()\n",
        "labels"
      ],
      "execution_count": null,
      "outputs": [
        {
          "output_type": "execute_result",
          "data": {
            "text/plain": [
              "['Depressed', 'Not_Depressed']"
            ]
          },
          "metadata": {
            "tags": []
          },
          "execution_count": 27
        }
      ]
    },
    {
      "cell_type": "code",
      "metadata": {
        "id": "uVj5xtON5rKp",
        "colab_type": "code",
        "colab": {
          "base_uri": "https://localhost:8080/",
          "height": 50
        },
        "outputId": "64554f3e-2d0e-40c3-87fb-b3fdc74d2c9e"
      },
      "source": [
        "encoder = LabelEncoder()\n",
        "encoder.fit(df_train.target.tolist())\n",
        "\n",
        "y_train = encoder.transform(df_train.target.tolist())\n",
        "y_test = encoder.transform(df_test.target.tolist())\n",
        "\n",
        "y_train = y_train.reshape(-1,1)\n",
        "y_test = y_test.reshape(-1,1)\n",
        "\n",
        "print(\"y_train\",y_train.shape)\n",
        "print(\"y_test\",y_test.shape)"
      ],
      "execution_count": null,
      "outputs": [
        {
          "output_type": "stream",
          "text": [
            "y_train (423550, 1)\n",
            "y_test (105888, 1)\n"
          ],
          "name": "stdout"
        }
      ]
    },
    {
      "cell_type": "code",
      "metadata": {
        "id": "HOHF8LlA5sYe",
        "colab_type": "code",
        "colab": {
          "base_uri": "https://localhost:8080/",
          "height": 101
        },
        "outputId": "cdabb7dd-6632-4a25-ca0b-e489466d4faa"
      },
      "source": [
        "print(\"x_train\", x_train.shape)\n",
        "print(\"y_train\", y_train.shape)\n",
        "print()\n",
        "print(\"x_test\", x_test.shape)\n",
        "print(\"y_test\", y_test.shape)"
      ],
      "execution_count": null,
      "outputs": [
        {
          "output_type": "stream",
          "text": [
            "x_train (423550, 500)\n",
            "y_train (423550, 1)\n",
            "\n",
            "x_test (105888, 500)\n",
            "y_test (105888, 1)\n"
          ],
          "name": "stdout"
        }
      ]
    },
    {
      "cell_type": "code",
      "metadata": {
        "id": "JA_LYGDZ5uGQ",
        "colab_type": "code",
        "colab": {
          "base_uri": "https://localhost:8080/",
          "height": 185
        },
        "outputId": "cb20ad56-0e6e-410b-e4b2-0f37fd622cb8"
      },
      "source": [
        "y_train[:10]"
      ],
      "execution_count": null,
      "outputs": [
        {
          "output_type": "execute_result",
          "data": {
            "text/plain": [
              "array([[0],\n",
              "       [1],\n",
              "       [1],\n",
              "       [0],\n",
              "       [1],\n",
              "       [1],\n",
              "       [1],\n",
              "       [0],\n",
              "       [0],\n",
              "       [0]])"
            ]
          },
          "metadata": {
            "tags": []
          },
          "execution_count": 30
        }
      ]
    },
    {
      "cell_type": "code",
      "metadata": {
        "id": "635p5C1c5vQR",
        "colab_type": "code",
        "colab": {
          "base_uri": "https://localhost:8080/",
          "height": 34
        },
        "outputId": "8f8c1f96-bf3c-4726-ff86-efb59eedf4bf"
      },
      "source": [
        "embedding_matrix = np.zeros((vocab_size, W2V_SIZE))\n",
        "for word, i in tokenizer.word_index.items():\n",
        "    if word in w2v_model.wv:\n",
        "        embedding_matrix[i] = w2v_model.wv[word]\n",
        "print(embedding_matrix.shape)"
      ],
      "execution_count": null,
      "outputs": [
        {
          "output_type": "stream",
          "text": [
            "(700178, 500)\n"
          ],
          "name": "stdout"
        }
      ]
    },
    {
      "cell_type": "code",
      "metadata": {
        "id": "Xsb4dIb15wew",
        "colab_type": "code",
        "colab": {}
      },
      "source": [
        "embedding_layer = Embedding(vocab_size, W2V_SIZE, weights=[embedding_matrix], input_length=SEQUENCE_LENGTH, trainable=False)"
      ],
      "execution_count": null,
      "outputs": []
    },
    {
      "cell_type": "code",
      "metadata": {
        "id": "2krr3PIv5xbm",
        "colab_type": "code",
        "colab": {}
      },
      "source": [
        "inputs = np.concatenate((x_train, x_test), axis=0)\n",
        "targets = np.concatenate((y_train, y_test), axis=0)"
      ],
      "execution_count": null,
      "outputs": []
    },
    {
      "cell_type": "code",
      "metadata": {
        "id": "ycMKReLu5yRG",
        "colab_type": "code",
        "colab": {}
      },
      "source": [
        "kfold = KFold(n_splits=4, shuffle=True)"
      ],
      "execution_count": null,
      "outputs": []
    },
    {
      "cell_type": "code",
      "metadata": {
        "id": "phz6ifjA5zQ1",
        "colab_type": "code",
        "colab": {
          "base_uri": "https://localhost:8080/",
          "height": 1000
        },
        "outputId": "91dde074-6df9-4f86-b81b-11e6cac06d71"
      },
      "source": [
        "fold_no = 1\n",
        "\n",
        "acc_per_fold = []\n",
        "loss_per_fold = []\n",
        "\n",
        "for train, test in kfold.split(inputs, targets):\n",
        "  model = Sequential()\n",
        "  model.add(embedding_layer)\n",
        "  model.add(Dropout(0.5))\n",
        "  model.add((LSTM(128, dropout=0.2, recurrent_dropout=0, activation = 'tanh', recurrent_activation = 'sigmoid', unroll = False, use_bias = True)))\n",
        "  #model.add(Bidirectional(LSTM(128, dropout=0.2, recurrent_dropout=0, activation = 'tanh', recurrent_activation = 'sigmoid', unroll = False, use_bias = True, return_sequences = False)))\n",
        "  #model.add(Bidirectional(LSTM(128, dropout=0.2, recurrent_dropout=0, activation = 'tanh', recurrent_activation = 'sigmoid', unroll = False, use_bias = True, return_sequences = False)))\n",
        "  model.add(Dense(1, activation='sigmoid'))\n",
        "  model.summary()\n",
        "  #adam=keras.optimizers.Adam(lr=0.01)\n",
        "  model.compile(loss='binary_crossentropy',\n",
        "                optimizer=\"adam\",\n",
        "                metrics=['accuracy'])\n",
        "  \n",
        "  #callbacks = [ ReduceLROnPlateau(monitor='val_loss', patience=2, cooldown=0),\n",
        "                #EarlyStopping(monitor='val_accuracy', min_delta=1e-4, patience=2)]\n",
        "                \n",
        "  print('------------------------------------------------------------------------')\n",
        "  print(f'Training for fold {fold_no} ...')\n",
        "\n",
        "  history = model.fit(inputs[train], targets[train],\n",
        "                      batch_size=BATCH_SIZE,\n",
        "                      epochs=4,\n",
        "                      verbose=1)\n",
        "                      #callbacks=callbacks)\n",
        "  scores = model.evaluate(inputs[test], targets[test], verbose=0)\n",
        "  print(f'Score for fold {fold_no}: {model.metrics_names[0]} of {scores[0]}; {model.metrics_names[1]} of {scores[1]*100}%')\n",
        "  acc_per_fold.append(scores[1] * 100)\n",
        "  loss_per_fold.append(scores[0])\n",
        "\n",
        "  # Increase fold number\n",
        "  fold_no = fold_no + 1\n",
        "\n",
        "print('------------------------------------------------------------------------')\n",
        "print('Score per fold')\n",
        "for i in range(0, len(acc_per_fold)):\n",
        "  print('------------------------------------------------------------------------')\n",
        "  print(f'> Fold {i+1} - Loss: {loss_per_fold[i]} - Accuracy: {acc_per_fold[i]}%')\n",
        "print('------------------------------------------------------------------------')\n",
        "print('Average scores for all folds:')\n",
        "print(f'> Accuracy: {np.mean(acc_per_fold)} (+- {np.std(acc_per_fold)})')\n",
        "print(f'> Loss: {np.mean(loss_per_fold)}')\n",
        "print('------------------------------------------------------------------------')"
      ],
      "execution_count": null,
      "outputs": [
        {
          "output_type": "stream",
          "text": [
            "Model: \"sequential\"\n",
            "_________________________________________________________________\n",
            "Layer (type)                 Output Shape              Param #   \n",
            "=================================================================\n",
            "embedding (Embedding)        (None, 500, 500)          350089000 \n",
            "_________________________________________________________________\n",
            "dropout (Dropout)            (None, 500, 500)          0         \n",
            "_________________________________________________________________\n",
            "lstm (LSTM)                  (None, 128)               322048    \n",
            "_________________________________________________________________\n",
            "dense (Dense)                (None, 1)                 129       \n",
            "=================================================================\n",
            "Total params: 350,411,177\n",
            "Trainable params: 322,177\n",
            "Non-trainable params: 350,089,000\n",
            "_________________________________________________________________\n",
            "------------------------------------------------------------------------\n",
            "Training for fold 1 ...\n",
            "Epoch 1/4\n",
            "49635/49635 [==============================] - 1087s 22ms/step - loss: 0.1413 - accuracy: 0.9448\n",
            "Epoch 2/4\n",
            "49635/49635 [==============================] - 1058s 21ms/step - loss: 0.1299 - accuracy: 0.9496\n",
            "Epoch 3/4\n",
            "49635/49635 [==============================] - 1098s 22ms/step - loss: 0.1216 - accuracy: 0.9526\n",
            "Epoch 4/4\n",
            "49635/49635 [==============================] - 1111s 22ms/step - loss: 0.1191 - accuracy: 0.9537\n",
            "Score for fold 1: loss of 0.11533257365226746; accuracy of 95.55832743644714%\n",
            "Model: \"sequential_1\"\n",
            "_________________________________________________________________\n",
            "Layer (type)                 Output Shape              Param #   \n",
            "=================================================================\n",
            "embedding (Embedding)        (None, 500, 500)          350089000 \n",
            "_________________________________________________________________\n",
            "dropout_1 (Dropout)          (None, 500, 500)          0         \n",
            "_________________________________________________________________\n",
            "lstm_1 (LSTM)                (None, 128)               322048    \n",
            "_________________________________________________________________\n",
            "dense_1 (Dense)              (None, 1)                 129       \n",
            "=================================================================\n",
            "Total params: 350,411,177\n",
            "Trainable params: 322,177\n",
            "Non-trainable params: 350,089,000\n",
            "_________________________________________________________________\n",
            "------------------------------------------------------------------------\n",
            "Training for fold 2 ...\n",
            "Epoch 1/4\n",
            "49635/49635 [==============================] - 1137s 23ms/step - loss: 0.1377 - accuracy: 0.9464\n",
            "Epoch 2/4\n",
            "49635/49635 [==============================] - 1125s 23ms/step - loss: 0.1298 - accuracy: 0.9497\n",
            "Epoch 3/4\n",
            "49635/49635 [==============================] - 1126s 23ms/step - loss: 0.1202 - accuracy: 0.9535\n",
            "Epoch 4/4\n",
            "49635/49635 [==============================] - 1140s 23ms/step - loss: 0.1245 - accuracy: 0.9521\n",
            "Score for fold 2: loss of 0.1371450424194336; accuracy of 94.67890858650208%\n",
            "Model: \"sequential_2\"\n",
            "_________________________________________________________________\n",
            "Layer (type)                 Output Shape              Param #   \n",
            "=================================================================\n",
            "embedding (Embedding)        (None, 500, 500)          350089000 \n",
            "_________________________________________________________________\n",
            "dropout_2 (Dropout)          (None, 500, 500)          0         \n",
            "_________________________________________________________________\n",
            "lstm_2 (LSTM)                (None, 128)               322048    \n",
            "_________________________________________________________________\n",
            "dense_2 (Dense)              (None, 1)                 129       \n",
            "=================================================================\n",
            "Total params: 350,411,177\n",
            "Trainable params: 322,177\n",
            "Non-trainable params: 350,089,000\n",
            "_________________________________________________________________\n",
            "------------------------------------------------------------------------\n",
            "Training for fold 3 ...\n",
            "Epoch 1/4\n",
            "49635/49635 [==============================] - 1133s 23ms/step - loss: 0.1391 - accuracy: 0.9460\n",
            "Epoch 2/4\n",
            "49635/49635 [==============================] - 1121s 23ms/step - loss: 0.1273 - accuracy: 0.9508\n",
            "Epoch 3/4\n",
            "49635/49635 [==============================] - 1126s 23ms/step - loss: 0.1238 - accuracy: 0.9523\n",
            "Epoch 4/4\n",
            "49635/49635 [==============================] - 1124s 23ms/step - loss: 0.1187 - accuracy: 0.9542\n",
            "Score for fold 3: loss of 0.11786827445030212; accuracy of 95.42834162712097%\n",
            "Model: \"sequential_3\"\n",
            "_________________________________________________________________\n",
            "Layer (type)                 Output Shape              Param #   \n",
            "=================================================================\n",
            "embedding (Embedding)        (None, 500, 500)          350089000 \n",
            "_________________________________________________________________\n",
            "dropout_3 (Dropout)          (None, 500, 500)          0         \n",
            "_________________________________________________________________\n",
            "lstm_3 (LSTM)                (None, 128)               322048    \n",
            "_________________________________________________________________\n",
            "dense_3 (Dense)              (None, 1)                 129       \n",
            "=================================================================\n",
            "Total params: 350,411,177\n",
            "Trainable params: 322,177\n",
            "Non-trainable params: 350,089,000\n",
            "_________________________________________________________________\n",
            "------------------------------------------------------------------------\n",
            "Training for fold 4 ...\n",
            "Epoch 1/4\n",
            "49635/49635 [==============================] - 1116s 22ms/step - loss: 0.1373 - accuracy: 0.9465\n",
            "Epoch 2/4\n",
            "49635/49635 [==============================] - 1117s 23ms/step - loss: 0.1224 - accuracy: 0.9526\n",
            "Epoch 3/4\n",
            "49635/49635 [==============================] - 1128s 23ms/step - loss: 0.1195 - accuracy: 0.9537\n",
            "Epoch 4/4\n",
            "49635/49635 [==============================] - 1113s 22ms/step - loss: 0.1180 - accuracy: 0.9545\n",
            "Score for fold 4: loss of 0.11200398951768875; accuracy of 95.72752714157104%\n",
            "------------------------------------------------------------------------\n",
            "Score per fold\n",
            "------------------------------------------------------------------------\n",
            "> Fold 1 - Loss: 0.11533257365226746 - Accuracy: 95.55832743644714%\n",
            "------------------------------------------------------------------------\n",
            "> Fold 2 - Loss: 0.1371450424194336 - Accuracy: 94.67890858650208%\n",
            "------------------------------------------------------------------------\n",
            "> Fold 3 - Loss: 0.11786827445030212 - Accuracy: 95.42834162712097%\n",
            "------------------------------------------------------------------------\n",
            "> Fold 4 - Loss: 0.11200398951768875 - Accuracy: 95.72752714157104%\n",
            "------------------------------------------------------------------------\n",
            "Average scores for all folds:\n",
            "> Accuracy: 95.34827619791031 (+- 0.4007543740358515)\n",
            "> Loss: 0.12058747000992298\n",
            "------------------------------------------------------------------------\n"
          ],
          "name": "stdout"
        }
      ]
    },
    {
      "cell_type": "code",
      "metadata": {
        "id": "4Rp7rFJ750f2",
        "colab_type": "code",
        "colab": {
          "base_uri": "https://localhost:8080/",
          "height": 118
        },
        "outputId": "07af7fc8-d93d-4242-ac1d-65b8add69ee3"
      },
      "source": [
        "%%time\n",
        "score = model.evaluate(x_test, y_test, batch_size=BATCH_SIZE)\n",
        "print()\n",
        "print(\"ACCURACY:\",score[1])\n",
        "print(\"LOSS:\",score[0])"
      ],
      "execution_count": null,
      "outputs": [
        {
          "output_type": "stream",
          "text": [
            "13236/13236 [==============================] - 126s 10ms/step - loss: 0.1091 - accuracy: 0.9581\n",
            "\n",
            "ACCURACY: 0.9580594301223755\n",
            "LOSS: 0.10906284302473068\n",
            "CPU times: user 2min 7s, sys: 13.2 s, total: 2min 20s\n",
            "Wall time: 2min 6s\n"
          ],
          "name": "stdout"
        }
      ]
    },
    {
      "cell_type": "code",
      "metadata": {
        "id": "gmmSyLXv53XA",
        "colab_type": "code",
        "colab": {}
      },
      "source": [
        "def decode_sentiment(score):\n",
        "    return \"Not_Depressed\" if score>0.5 else \"Depressed\""
      ],
      "execution_count": null,
      "outputs": []
    },
    {
      "cell_type": "code",
      "metadata": {
        "id": "Gc7WB6h_54Ui",
        "colab_type": "code",
        "colab": {}
      },
      "source": [
        "import itertools\n",
        "from sklearn.metrics import confusion_matrix, classification_report, accuracy_score\n",
        "def plot_confusion_matrix(cm, classes,\n",
        "                          title='Confusion matrix',\n",
        "                          cmap=plt.cm.Blues):\n",
        "    \"\"\"\n",
        "    This function prints and plots the confusion matrix.\n",
        "    Normalization can be applied by setting `normalize=True`.\n",
        "    \"\"\"\n",
        "\n",
        "    cm = cm.astype('float') / cm.sum(axis=1)[:, np.newaxis]\n",
        "\n",
        "    plt.imshow(cm, interpolation='nearest', cmap=cmap)\n",
        "    plt.title(title, fontsize=20)\n",
        "    plt.colorbar()\n",
        "    tick_marks = np.arange(len(classes))\n",
        "    plt.xticks(tick_marks, classes, fontsize=13)\n",
        "    plt.yticks(tick_marks, classes, fontsize=13)\n",
        "\n",
        "    fmt = '.2f'\n",
        "    thresh = cm.max() / 2.\n",
        "    for i, j in itertools.product(range(cm.shape[0]), range(cm.shape[1])):\n",
        "        plt.text(j, i, format(cm[i, j], fmt),\n",
        "                 horizontalalignment=\"center\",\n",
        "                 color=\"white\" if cm[i, j] > thresh else \"black\")\n",
        "\n",
        "    plt.ylabel('True label', fontsize=17)\n",
        "    plt.xlabel('Predicted label', fontsize=17)"
      ],
      "execution_count": null,
      "outputs": []
    },
    {
      "cell_type": "code",
      "metadata": {
        "id": "SZf7Z5ma55i_",
        "colab_type": "code",
        "colab": {
          "base_uri": "https://localhost:8080/",
          "height": 67
        },
        "outputId": "ce648d10-9ec1-4132-fdbb-a8f824f5a5c7"
      },
      "source": [
        "%%time\n",
        "y_pred_1d = []\n",
        "y_test_1d = list(df_test.target)\n",
        "scores = model.predict(x_test, verbose=1, batch_size=10)\n",
        "y_pred_1d = [decode_sentiment(score) for score in scores]\n"
      ],
      "execution_count": null,
      "outputs": [
        {
          "output_type": "stream",
          "text": [
            "10589/10589 [==============================] - 104s 10ms/step\n",
            "CPU times: user 1min 43s, sys: 10.2 s, total: 1min 54s\n",
            "Wall time: 1min 44s\n"
          ],
          "name": "stdout"
        }
      ]
    },
    {
      "cell_type": "code",
      "metadata": {
        "id": "c1O_JrAc562a",
        "colab_type": "code",
        "colab": {
          "base_uri": "https://localhost:8080/",
          "height": 67
        },
        "outputId": "a25a1cc2-9b06-43df-bc3c-856b0b57d6e3"
      },
      "source": [
        "print(type(df_train.target.unique()))\n",
        "print(type(y_test_1d))\n",
        "print(len(y_pred_1d))"
      ],
      "execution_count": null,
      "outputs": [
        {
          "output_type": "stream",
          "text": [
            "<class 'numpy.ndarray'>\n",
            "<class 'list'>\n",
            "105888\n"
          ],
          "name": "stdout"
        }
      ]
    },
    {
      "cell_type": "code",
      "metadata": {
        "id": "Qv1uB9xs57wo",
        "colab_type": "code",
        "colab": {}
      },
      "source": [
        "def predict(text):\n",
        "    start_at = time.time()\n",
        "    # Tokenize text\n",
        "    x_test = pad_sequences(tokenizer.texts_to_sequences([text]), maxlen=SEQUENCE_LENGTH)\n",
        "    # Predict\n",
        "    score = model.predict([x_test])[0]\n",
        "    # Decode sentiment\n",
        "    label = decode_sentiment(score)\n",
        "\n",
        "    return {\"label\": label, \"score\": float(score),\n",
        "       \"elapsed_time\": time.time()-start_at}  "
      ],
      "execution_count": null,
      "outputs": []
    },
    {
      "cell_type": "code",
      "metadata": {
        "id": "o6Sc4nlm58n_",
        "colab_type": "code",
        "colab": {
          "base_uri": "https://localhost:8080/",
          "height": 67
        },
        "outputId": "6d9d3604-3a69-488b-8ce0-61c8f133c68e"
      },
      "source": [
        "predict('Happiness is the key to success')"
      ],
      "execution_count": null,
      "outputs": [
        {
          "output_type": "execute_result",
          "data": {
            "text/plain": [
              "{'elapsed_time': 0.31773829460144043,\n",
              " 'label': 'Not_Depressed',\n",
              " 'score': 0.7410839796066284}"
            ]
          },
          "metadata": {
            "tags": []
          },
          "execution_count": 42
        }
      ]
    },
    {
      "cell_type": "code",
      "metadata": {
        "id": "_qBLskWk5_PY",
        "colab_type": "code",
        "colab": {
          "base_uri": "https://localhost:8080/",
          "height": 67
        },
        "outputId": "5ce63af7-e0fd-47e6-ad92-e35321cb225a"
      },
      "source": [
        "predict(\"I wish that people appreciated me for who I am\")"
      ],
      "execution_count": null,
      "outputs": [
        {
          "output_type": "execute_result",
          "data": {
            "text/plain": [
              "{'elapsed_time': 0.030849218368530273,\n",
              " 'label': 'Depressed',\n",
              " 'score': 0.14987722039222717}"
            ]
          },
          "metadata": {
            "tags": []
          },
          "execution_count": 43
        }
      ]
    },
    {
      "cell_type": "code",
      "metadata": {
        "id": "PRRaupxZ6B_t",
        "colab_type": "code",
        "colab": {
          "base_uri": "https://localhost:8080/",
          "height": 67
        },
        "outputId": "7b098436-27c8-4fba-daf5-7c4905f8cdf8"
      },
      "source": [
        "predict('We are not expecting a cyclone. Low pressure systems do not intensify into cyclones during the monsoon. At the most, this will be a depression which will cross the Odisha coast in 48 hours. Such monsoon depressions bring a lot of rain, said Sunitha Devi, in-charge of cyclones at IMD.')"
      ],
      "execution_count": null,
      "outputs": [
        {
          "output_type": "execute_result",
          "data": {
            "text/plain": [
              "{'elapsed_time': 0.031096458435058594,\n",
              " 'label': 'Not_Depressed',\n",
              " 'score': 0.587215781211853}"
            ]
          },
          "metadata": {
            "tags": []
          },
          "execution_count": 44
        }
      ]
    },
    {
      "cell_type": "code",
      "metadata": {
        "id": "FHy0tu-i6Dd4",
        "colab_type": "code",
        "colab": {
          "base_uri": "https://localhost:8080/",
          "height": 67
        },
        "outputId": "23be920c-33ad-4e36-c172-0967acf71fa7"
      },
      "source": [
        "predict('I feel so sad all the time')"
      ],
      "execution_count": null,
      "outputs": [
        {
          "output_type": "execute_result",
          "data": {
            "text/plain": [
              "{'elapsed_time': 0.031290292739868164,\n",
              " 'label': 'Depressed',\n",
              " 'score': 0.07590373605489731}"
            ]
          },
          "metadata": {
            "tags": []
          },
          "execution_count": 46
        }
      ]
    },
    {
      "cell_type": "code",
      "metadata": {
        "id": "xeYyCw7Q6ERy",
        "colab_type": "code",
        "colab": {
          "base_uri": "https://localhost:8080/",
          "height": 67
        },
        "outputId": "9e769c6d-7ad9-40f5-9020-6b9ed9edc2f8"
      },
      "source": [
        "predict('I hope the next year isnt as miserable as my whole life already is')"
      ],
      "execution_count": null,
      "outputs": [
        {
          "output_type": "execute_result",
          "data": {
            "text/plain": [
              "{'elapsed_time': 0.032773733139038086,\n",
              " 'label': 'Depressed',\n",
              " 'score': 0.020741239190101624}"
            ]
          },
          "metadata": {
            "tags": []
          },
          "execution_count": 47
        }
      ]
    },
    {
      "cell_type": "code",
      "metadata": {
        "id": "_T1A5syfYNiU",
        "colab_type": "code",
        "colab": {
          "base_uri": "https://localhost:8080/",
          "height": 67
        },
        "outputId": "6fa32d2c-3615-4fdb-cd16-d96e7263bfd1"
      },
      "source": [
        "predict('Tropical Depression Found Near Bay of Bengal, along the coast of Odisha')"
      ],
      "execution_count": null,
      "outputs": [
        {
          "output_type": "execute_result",
          "data": {
            "text/plain": [
              "{'elapsed_time': 0.03311944007873535,\n",
              " 'label': 'Not_Depressed',\n",
              " 'score': 0.6461057662963867}"
            ]
          },
          "metadata": {
            "tags": []
          },
          "execution_count": 55
        }
      ]
    },
    {
      "cell_type": "code",
      "metadata": {
        "id": "CWhGfaYC6E34",
        "colab_type": "code",
        "colab": {
          "base_uri": "https://localhost:8080/",
          "height": 717
        },
        "outputId": "04e10a18-2e3a-4f38-c053-27d3b3580943"
      },
      "source": [
        "%%time\n",
        "\n",
        "cnf_matrix = confusion_matrix(y_test_1d, y_pred_1d)\n",
        "plt.figure(figsize=(12,12))\n",
        "plot_confusion_matrix(cnf_matrix, classes=df_train.target.unique(), title=\"Confusion matrix\")\n",
        "plt.show()"
      ],
      "execution_count": null,
      "outputs": [
        {
          "output_type": "display_data",
          "data": {
            "image/png": "[encoded data removed]",
            "text/plain": [
              "<Figure size 864x864 with 2 Axes>"
            ]
          },
          "metadata": {
            "tags": [],
            "needs_background": "light"
          }
        },
        {
          "output_type": "stream",
          "text": [
            "CPU times: user 526 ms, sys: 15.8 ms, total: 542 ms\n",
            "Wall time: 541 ms\n"
          ],
          "name": "stdout"
        }
      ]
    },
    {
      "cell_type": "code",
      "metadata": {
        "id": "kICF55mi6Fqz",
        "colab_type": "code",
        "colab": {
          "base_uri": "https://localhost:8080/",
          "height": 168
        },
        "outputId": "06b0363f-74cb-49a4-ae80-3d0c745e09a5"
      },
      "source": [
        "print(classification_report(y_test_1d, y_pred_1d))"
      ],
      "execution_count": null,
      "outputs": [
        {
          "output_type": "stream",
          "text": [
            "               precision    recall  f1-score   support\n",
            "\n",
            "    Depressed       0.97      0.94      0.96     53158\n",
            "Not_Depressed       0.95      0.97      0.96     52730\n",
            "\n",
            "     accuracy                           0.96    105888\n",
            "    macro avg       0.96      0.96      0.96    105888\n",
            " weighted avg       0.96      0.96      0.96    105888\n",
            "\n"
          ],
          "name": "stdout"
        }
      ]
    },
    {
      "cell_type": "code",
      "metadata": {
        "id": "ypvgf1TT6Gza",
        "colab_type": "code",
        "colab": {
          "base_uri": "https://localhost:8080/",
          "height": 34
        },
        "outputId": "d2925899-afdd-4f29-9d9b-04fa7dcc4327"
      },
      "source": [
        "accuracy_score(y_test_1d, y_pred_1d)"
      ],
      "execution_count": null,
      "outputs": [
        {
          "output_type": "execute_result",
          "data": {
            "text/plain": [
              "0.9580594590510728"
            ]
          },
          "metadata": {
            "tags": []
          },
          "execution_count": 50
        }
      ]
    },
    {
      "cell_type": "code",
      "metadata": {
        "id": "5m81uwKm6Hgc",
        "colab_type": "code",
        "colab": {}
      },
      "source": [
        ""
      ],
      "execution_count": null,
      "outputs": []
    },
    {
      "cell_type": "code",
      "metadata": {
        "id": "HRIlmNBB6IFj",
        "colab_type": "code",
        "colab": {
          "base_uri": "https://localhost:8080/",
          "height": 171
        },
        "outputId": "f05c8d61-2b13-4f75-d36f-45bd7f913719"
      },
      "source": [
        "model.save(\"/content/drive/My Drive/TKFOLD1/Trigram_Updarted.h5\")\n",
        "w2v_model.save(\"/content/drive/My Drive/TKFOLD1/Trigram_Updated_W2V1.h5\")\n",
        "pickle.dump(tokenizer, open(\"/content/drive/My Drive/TKFOLD1/Trigram_Updated_Tokenizer1.pkl\", \"wb\"), protocol=0)\n",
        "pickle.dump(encoder, open(\"/content/drive/My Drive/TKFOLD1/Trigram_Updated_Encoder1.pkl\", \"wb\"), protocol=0)"
      ],
      "execution_count": null,
      "outputs": [
        {
          "output_type": "stream",
          "text": [
            "2020-07-28 03:15:41,399 : INFO : saving Word2Vec object under /content/drive/My Drive/TKFOLD1/Trigram_Updated_W2V1.h5, separately None\n",
            "2020-07-28 03:15:41,400 : INFO : storing np array 'vectors' to /content/drive/My Drive/TKFOLD1/Trigram_Updated_W2V1.h5.wv.vectors.npy\n",
            "2020-07-28 03:15:42,141 : INFO : not storing attribute vectors_norm\n",
            "2020-07-28 03:15:42,142 : INFO : storing np array 'syn1neg' to /content/drive/My Drive/TKFOLD1/Trigram_Updated_W2V1.h5.trainables.syn1neg.npy\n",
            "2020-07-28 03:15:48,457 : INFO : not storing attribute cum_table\n",
            "/usr/local/lib/python3.6/dist-packages/smart_open/smart_open_lib.py:254: UserWarning: This function is deprecated, use smart_open.open instead. See the migration notes for details: https://github.com/RaRe-Technologies/smart_open/blob/master/README.rst#migrating-to-the-new-open-function\n",
            "  'See the migration notes for details: %s' % _MIGRATION_NOTES_URL\n",
            "2020-07-28 03:15:48,595 : INFO : saved /content/drive/My Drive/TKFOLD1/Trigram_Updated_W2V1.h5\n"
          ],
          "name": "stderr"
        }
      ]
    },
    {
      "cell_type": "code",
      "metadata": {
        "id": "RUeIccArYN5Z",
        "colab_type": "code",
        "colab": {}
      },
      "source": [
        ""
      ],
      "execution_count": null,
      "outputs": []
    }
  ]
}